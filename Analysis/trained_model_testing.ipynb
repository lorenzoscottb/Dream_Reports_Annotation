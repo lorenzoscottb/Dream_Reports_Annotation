{
 "cells": [
  {
   "cell_type": "code",
   "execution_count": 1,
   "id": "2b3c7ad5",
   "metadata": {},
   "outputs": [
    {
     "name": "stdout",
     "output_type": "stream",
     "text": [
      "Python version\n",
      "3.9.12 (main, Jun  1 2022, 11:38:51) \n",
      "[GCC 7.5.0]\n",
      "Version info.\n",
      "sys.version_info(major=3, minor=9, micro=12, releaselevel='final', serial=0)\n"
     ]
    }
   ],
   "source": [
    "import sys\n",
    "print(\"Python version\")\n",
    "print (sys.version)\n",
    "print(\"Version info.\")\n",
    "print (sys.version_info)"
   ]
  },
  {
   "cell_type": "code",
   "execution_count": 2,
   "id": "0f3da2f2",
   "metadata": {},
   "outputs": [],
   "source": [
    "import torch, os\n",
    "import pandas as pd\n",
    "import transformers\n",
    "from tqdm import tqdm\n",
    "from transformers import AutoModel\n",
    "from transformers import AutoConfig\n",
    "from transformers import BertTokenizerFast\n",
    "from SL_utils import *\n",
    "\n",
    "os.environ[\"CUDA_VISIBLE_DEVICES\"] = str(5)"
   ]
  },
  {
   "cell_type": "code",
   "execution_count": 3,
   "id": "0a821bcb",
   "metadata": {},
   "outputs": [],
   "source": [
    "Coding_emotions = {\n",
    "    \"AN\": \"Anger\",\n",
    "    \"AP\": \"Apprehension\",\n",
    "    \"SD\": \"Sadness\",\n",
    "    \"CO\": \"Confusion\",\n",
    "    \"HA\": \"Happiness\",\n",
    "}\n",
    "\n",
    "emotions_list = list(Coding_emotions.keys())\n",
    "\n",
    "test_sentences = [\n",
    "    \"In my dream I was follwed by the scary monster.\",\n",
    "    \"I was walking in a forest, sorrounded by singing birds. I was calm and at peace.\"\n",
    "]\n",
    "\n",
    "test_sentences_target = len(test_sentences)*[[0, 0, 0, 0, 0]]\n",
    "test_sentences_df     = pd.DataFrame.from_dict(\n",
    "                {\n",
    "                \"report\":test_sentences,\n",
    "                \"Report_as_Multilabel\":test_sentences_target\n",
    "                }\n",
    ")"
   ]
  },
  {
   "cell_type": "code",
   "execution_count": 4,
   "id": "aba87a8f",
   "metadata": {},
   "outputs": [
    {
     "data": {
      "text/html": [
       "<div>\n",
       "<style scoped>\n",
       "    .dataframe tbody tr th:only-of-type {\n",
       "        vertical-align: middle;\n",
       "    }\n",
       "\n",
       "    .dataframe tbody tr th {\n",
       "        vertical-align: top;\n",
       "    }\n",
       "\n",
       "    .dataframe thead th {\n",
       "        text-align: right;\n",
       "    }\n",
       "</style>\n",
       "<table border=\"1\" class=\"dataframe\">\n",
       "  <thead>\n",
       "    <tr style=\"text-align: right;\">\n",
       "      <th></th>\n",
       "      <th>report</th>\n",
       "      <th>Report_as_Multilabel</th>\n",
       "    </tr>\n",
       "  </thead>\n",
       "  <tbody>\n",
       "    <tr>\n",
       "      <th>0</th>\n",
       "      <td>In my dream I was follwed by the scary monster.</td>\n",
       "      <td>[0, 0, 0, 0, 0]</td>\n",
       "    </tr>\n",
       "    <tr>\n",
       "      <th>1</th>\n",
       "      <td>I was walking in a forest, sorrounded by singi...</td>\n",
       "      <td>[0, 0, 0, 0, 0]</td>\n",
       "    </tr>\n",
       "  </tbody>\n",
       "</table>\n",
       "</div>"
      ],
      "text/plain": [
       "                                              report Report_as_Multilabel\n",
       "0    In my dream I was follwed by the scary monster.      [0, 0, 0, 0, 0]\n",
       "1  I was walking in a forest, sorrounded by singi...      [0, 0, 0, 0, 0]"
      ]
     },
     "execution_count": 4,
     "metadata": {},
     "output_type": "execute_result"
    }
   ],
   "source": [
    "test_sentences_df"
   ]
  },
  {
   "cell_type": "markdown",
   "id": "46f1859d",
   "metadata": {},
   "source": [
    "# Main Model "
   ]
  },
  {
   "cell_type": "code",
   "execution_count": 5,
   "id": "6a8bc71e",
   "metadata": {},
   "outputs": [
    {
     "name": "stderr",
     "output_type": "stream",
     "text": [
      "Some weights of the model checkpoint at bert-large-cased were not used when initializing BertModel: ['cls.predictions.transform.dense.weight', 'cls.predictions.transform.LayerNorm.bias', 'cls.predictions.bias', 'cls.seq_relationship.weight', 'cls.seq_relationship.bias', 'cls.predictions.transform.dense.bias', 'cls.predictions.decoder.weight', 'cls.predictions.transform.LayerNorm.weight']\n",
      "- This IS expected if you are initializing BertModel from the checkpoint of a model trained on another task or with another architecture (e.g. initializing a BertForSequenceClassification model from a BertForPreTraining model).\n",
      "- This IS NOT expected if you are initializing BertModel from the checkpoint of a model that you expect to be exactly identical (initializing a BertForSequenceClassification model from a BertForSequenceClassification model).\n"
     ]
    },
    {
     "name": "stdout",
     "output_type": "stream",
     "text": [
      "Collecting Predictions\n"
     ]
    }
   ],
   "source": [
    "model_name   = \"bert-large-cased\"\n",
    "model_config = AutoConfig.from_pretrained(model_name)\n",
    "tokenizer    = BertTokenizerFast.from_pretrained(model_name, do_lower_case=False)\n",
    "testing_set  = CustomDataset(test_sentences_df, tokenizer, max_length=512)\n",
    "\n",
    "test_params = {\n",
    "    'batch_size': 2,\n",
    "    'shuffle': True,\n",
    "    'num_workers': 0\n",
    "}\n",
    "\n",
    "testing_loader  = DataLoader(testing_set, **test_params)\n",
    "\n",
    "model = BERT_PTM(\n",
    "    model_config,\n",
    "    model_name=model_name, \n",
    "    n_classes=len(emotions_list), \n",
    "    freeze_BERT=False,\n",
    ")\n",
    "\n",
    "model.load_state_dict(torch.load(\"model/pytorch_model.bin\"))\n",
    "model.to(\"cuda\")\n",
    "\n",
    "print(\"Collecting Predictions\")"
   ]
  },
  {
   "cell_type": "code",
   "execution_count": 6,
   "id": "a0070742",
   "metadata": {},
   "outputs": [
    {
     "name": "stderr",
     "output_type": "stream",
     "text": [
      "Truncation was not explicitly activated but `max_length` is provided a specific value, please use `truncation=True` to explicitly truncate examples to max length. Defaulting to 'longest_first' truncation strategy. If you encode pairs of sequences (GLUE-style) with the tokenizer you can select this strategy more precisely by providing a specific strategy to `truncation`.\n",
      "/srv/galene1/lb540/miniconda/envs/main_39/lib/python3.9/site-packages/transformers/tokenization_utils_base.py:2336: FutureWarning: The `pad_to_max_length` argument is deprecated and will be removed in a future version, use `padding=True` or `padding='longest'` to pad to the longest sequence in the batch, or use `padding='max_length'` to pad to a max length. In this case, you can give a specific length with `max_length` (e.g. `max_length=45`) or leave max_length to None to pad to the maximal input size of the model (e.g. 512 for Bert).\n",
      "  warnings.warn(\n",
      "100%|██████████████████████████████████████████████████████████████████████████████████████████| 2/2 [00:00<00:00, 863.11it/s]\n"
     ]
    }
   ],
   "source": [
    "outputs, targets, ids = validation(model, testing_loader, device=\"cuda\", return_inputs=True)\n",
    "\n",
    "corr_outputs    = np.array(outputs) >= 0.5 \n",
    "corr_outputs_df = pd.DataFrame(corr_outputs, columns=emotions_list)\n",
    "corr_outputs_df = corr_outputs_df.astype(int)\n",
    "\n",
    "corr_outputs_df[\"report\"] = decoded_ids = [decode_clean(x, tokenizer) for x in tqdm(ids)]"
   ]
  },
  {
   "cell_type": "code",
   "execution_count": 9,
   "id": "109e7dcf",
   "metadata": {},
   "outputs": [
    {
     "data": {
      "text/html": [
       "<div>\n",
       "<style scoped>\n",
       "    .dataframe tbody tr th:only-of-type {\n",
       "        vertical-align: middle;\n",
       "    }\n",
       "\n",
       "    .dataframe tbody tr th {\n",
       "        vertical-align: top;\n",
       "    }\n",
       "\n",
       "    .dataframe thead th {\n",
       "        text-align: right;\n",
       "    }\n",
       "</style>\n",
       "<table border=\"1\" class=\"dataframe\">\n",
       "  <thead>\n",
       "    <tr style=\"text-align: right;\">\n",
       "      <th></th>\n",
       "      <th>AN</th>\n",
       "      <th>AP</th>\n",
       "      <th>SD</th>\n",
       "      <th>CO</th>\n",
       "      <th>HA</th>\n",
       "      <th>report</th>\n",
       "    </tr>\n",
       "  </thead>\n",
       "  <tbody>\n",
       "    <tr>\n",
       "      <th>0</th>\n",
       "      <td>0</td>\n",
       "      <td>1</td>\n",
       "      <td>0</td>\n",
       "      <td>0</td>\n",
       "      <td>0</td>\n",
       "      <td>In my dream I was follwed by the scary monste...</td>\n",
       "    </tr>\n",
       "    <tr>\n",
       "      <th>1</th>\n",
       "      <td>0</td>\n",
       "      <td>0</td>\n",
       "      <td>0</td>\n",
       "      <td>0</td>\n",
       "      <td>1</td>\n",
       "      <td>I was walking in a forest, sorrounded by sing...</td>\n",
       "    </tr>\n",
       "  </tbody>\n",
       "</table>\n",
       "</div>"
      ],
      "text/plain": [
       "   AN  AP  SD  CO  HA                                             report\n",
       "0   0   1   0   0   0   In my dream I was follwed by the scary monste...\n",
       "1   0   0   0   0   1   I was walking in a forest, sorrounded by sing..."
      ]
     },
     "execution_count": 9,
     "metadata": {},
     "output_type": "execute_result"
    }
   ],
   "source": [
    "corr_outputs_df"
   ]
  },
  {
   "cell_type": "markdown",
   "id": "f2adc40a",
   "metadata": {},
   "source": [
    "# 🤗 Models"
   ]
  },
  {
   "cell_type": "code",
   "execution_count": 4,
   "id": "51e2dcaa",
   "metadata": {},
   "outputs": [],
   "source": [
    "from transformers import AutoTokenizer, AutoModelForSequenceClassification\n",
    "\n",
    "model_name = \"DReAMy-lib/bert-base-cased-DreamBank-emotion-presence\"\n",
    "\n",
    "tokenizer = AutoTokenizer.from_pretrained(model_name)\n",
    "model     = AutoModelForSequenceClassification.from_pretrained(model_name)\n"
   ]
  },
  {
   "cell_type": "code",
   "execution_count": 15,
   "id": "f9a675f8",
   "metadata": {},
   "outputs": [],
   "source": [
    "from transformers import pipeline\n",
    "\n",
    "test_dreams = [\n",
    "    \"In my dream, I was followed by the scary monster.\",\n",
    "    \"I was walking in a forest, surrounded by singing birds. I was calm and at peace.\",\n",
    "    \"I dreamed that a my mother was giving me a sad news, but I was confused by it. \"\n",
    "]\n",
    "\n",
    "classifier = pipeline(\n",
    "    task=\"text-classification\", \n",
    "    model=model, \n",
    "    tokenizer=tokenizer,\n",
    "    top_k=None,\n",
    ")\n",
    "\n",
    "predictions = classifier(test_dreams)"
   ]
  },
  {
   "cell_type": "code",
   "execution_count": 16,
   "id": "53da7755",
   "metadata": {},
   "outputs": [
    {
     "data": {
      "text/plain": [
       "[[{'label': 'AP', 'score': 0.8697441816329956},\n",
       "  {'label': 'CO', 'score': 0.1245221346616745},\n",
       "  {'label': 'HA', 'score': 0.025534192100167274},\n",
       "  {'label': 'AN', 'score': 0.015074575319886208},\n",
       "  {'label': 'SD', 'score': 0.010451494716107845}],\n",
       " [{'label': 'HA', 'score': 0.9519748091697693},\n",
       "  {'label': 'AP', 'score': 0.07662183046340942},\n",
       "  {'label': 'SD', 'score': 0.042797815054655075},\n",
       "  {'label': 'CO', 'score': 0.02953989803791046},\n",
       "  {'label': 'AN', 'score': 0.008983743377029896}],\n",
       " [{'label': 'CO', 'score': 0.9686605334281921},\n",
       "  {'label': 'SD', 'score': 0.4479924738407135},\n",
       "  {'label': 'AP', 'score': 0.06535966694355011},\n",
       "  {'label': 'HA', 'score': 0.03700108453631401},\n",
       "  {'label': 'AN', 'score': 0.015028676018118858}]]"
      ]
     },
     "execution_count": 16,
     "metadata": {},
     "output_type": "execute_result"
    }
   ],
   "source": [
    "predictions"
   ]
  },
  {
   "cell_type": "code",
   "execution_count": null,
   "id": "fb816f07",
   "metadata": {},
   "outputs": [],
   "source": []
  }
 ],
 "metadata": {
  "kernelspec": {
   "display_name": "main_39",
   "language": "python",
   "name": "main_39"
  },
  "language_info": {
   "codemirror_mode": {
    "name": "ipython",
    "version": 3
   },
   "file_extension": ".py",
   "mimetype": "text/x-python",
   "name": "python",
   "nbconvert_exporter": "python",
   "pygments_lexer": "ipython3",
   "version": "3.9.12"
  }
 },
 "nbformat": 4,
 "nbformat_minor": 5
}
