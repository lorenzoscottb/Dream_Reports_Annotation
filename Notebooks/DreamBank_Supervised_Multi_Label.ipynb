{
 "cells": [
  {
   "cell_type": "code",
   "execution_count": 1,
   "id": "92dd8fa2",
   "metadata": {
    "scrolled": false
   },
   "outputs": [
    {
     "name": "stdout",
     "output_type": "stream",
     "text": [
      "Thu Nov 10 11:48:57 2022       \r\n",
      "+-----------------------------------------------------------------------------+\r\n",
      "| NVIDIA-SMI 515.43.04    Driver Version: 515.43.04    CUDA Version: 11.7     |\r\n",
      "|-------------------------------+----------------------+----------------------+\r\n",
      "| GPU  Name        Persistence-M| Bus-Id        Disp.A | Volatile Uncorr. ECC |\r\n",
      "| Fan  Temp  Perf  Pwr:Usage/Cap|         Memory-Usage | GPU-Util  Compute M. |\r\n",
      "|                               |                      |               MIG M. |\r\n",
      "|===============================+======================+======================|\r\n",
      "|   0  NVIDIA GeForce ...  Off  | 00000000:03:00.0 Off |                  N/A |\r\n",
      "| 30%   32C    P0   106W / 350W |      0MiB / 24576MiB |      0%      Default |\r\n",
      "|                               |                      |                  N/A |\r\n",
      "+-------------------------------+----------------------+----------------------+\r\n",
      "|   1  NVIDIA GeForce ...  Off  | 00000000:04:00.0 Off |                  N/A |\r\n",
      "| 30%   30C    P0   108W / 350W |      0MiB / 24576MiB |      0%      Default |\r\n",
      "|                               |                      |                  N/A |\r\n",
      "+-------------------------------+----------------------+----------------------+\r\n",
      "|   2  NVIDIA GeForce ...  Off  | 00000000:43:00.0 Off |                  N/A |\r\n",
      "| 30%   31C    P0   104W / 350W |      0MiB / 24576MiB |      0%      Default |\r\n",
      "|                               |                      |                  N/A |\r\n",
      "+-------------------------------+----------------------+----------------------+\r\n",
      "|   3  NVIDIA GeForce ...  Off  | 00000000:44:00.0 Off |                  N/A |\r\n",
      "| 30%   29C    P0   100W / 350W |      0MiB / 24576MiB |      0%      Default |\r\n",
      "|                               |                      |                  N/A |\r\n",
      "+-------------------------------+----------------------+----------------------+\r\n",
      "|   4  NVIDIA GeForce ...  Off  | 00000000:87:00.0 Off |                  N/A |\r\n",
      "| 30%   15C    P8    13W / 350W |   9765MiB / 24576MiB |      0%      Default |\r\n",
      "|                               |                      |                  N/A |\r\n",
      "+-------------------------------+----------------------+----------------------+\r\n",
      "|   5  NVIDIA GeForce ...  Off  | 00000000:88:00.0 Off |                  N/A |\r\n",
      "| 30%   29C    P0   107W / 350W |      0MiB / 24576MiB |      0%      Default |\r\n",
      "|                               |                      |                  N/A |\r\n",
      "+-------------------------------+----------------------+----------------------+\r\n",
      "|   6  NVIDIA GeForce ...  Off  | 00000000:C3:00.0 Off |                  N/A |\r\n",
      "| 30%   28C    P0    98W / 350W |      0MiB / 24576MiB |      0%      Default |\r\n",
      "|                               |                      |                  N/A |\r\n",
      "+-------------------------------+----------------------+----------------------+\r\n",
      "|   7  NVIDIA GeForce ...  Off  | 00000000:C4:00.0 Off |                  N/A |\r\n",
      "| 30%   27C    P0   109W / 350W |      0MiB / 24576MiB |      3%      Default |\r\n",
      "|                               |                      |                  N/A |\r\n",
      "+-------------------------------+----------------------+----------------------+\r\n",
      "                                                                               \r\n",
      "+-----------------------------------------------------------------------------+\r\n",
      "| Processes:                                                                  |\r\n",
      "|  GPU   GI   CI        PID   Type   Process name                  GPU Memory |\r\n",
      "|        ID   ID                                                   Usage      |\r\n",
      "|=============================================================================|\r\n",
      "|    4   N/A  N/A   1083501      C   ...3/envs/cedr/bin/python3.9     9763MiB |\r\n",
      "+-----------------------------------------------------------------------------+\r\n"
     ]
    }
   ],
   "source": [
    "! nvidia-smi"
   ]
  },
  {
   "cell_type": "code",
   "execution_count": 2,
   "id": "82ba9aa9",
   "metadata": {},
   "outputs": [],
   "source": [
    "import os, random\n",
    "\n",
    "# Makes sure the script has acess to one GPU\n",
    "cuda_device = 5\n",
    "os.environ[\"CUDA_VISIBLE_DEVICES\"] = str(cuda_device)"
   ]
  },
  {
   "cell_type": "code",
   "execution_count": 3,
   "id": "palestinian-clear",
   "metadata": {},
   "outputs": [],
   "source": [
    "# \"Basic\" py library\n",
    "import pandas as pd\n",
    "import numpy as np\n",
    "from sklearn import metrics\n",
    "from sklearn.model_selection import KFold\n",
    "\n",
    "# visualisation\n",
    "from matplotlib import pyplot as plt # basic visualisation in py\n",
    "import seaborn as sns # great to interact with dataframes\n",
    "from tqdm import tqdm  # generats progress bar to controll steps\n",
    "\n",
    "import torch # Pytorch, Meta's library for ML\n",
    "import torch.nn as nn # torch module for neural networks \n",
    "\n",
    "import transformers # HuggingFace library to use pretrained models\n",
    "from transformers import BertTokenizerFast, BertForSequenceClassification\n",
    "from torch.utils.data import Dataset, DataLoader, RandomSampler, SequentialSampler\n",
    "from torch.utils.data import TensorDataset, random_split, SubsetRandomSampler, ConcatDataset\n"
   ]
  },
  {
   "cell_type": "code",
   "execution_count": 4,
   "id": "7bdaa463",
   "metadata": {},
   "outputs": [],
   "source": [
    "def set_seed(seed: int, set_random=True):\n",
    "    \"\"\"Helper function for reproducible behavior to set the seed in ``random``, \n",
    "        ``numpy``, ``torch`` and/or ``tf`` (if installed).\n",
    "\n",
    "    Args:\n",
    "        seed (:obj:`int`): The seed to set.\n",
    "    \"\"\"\n",
    "    from transformers.file_utils import is_tf_available, is_torch_available, is_torch_tpu_available\n",
    "    \n",
    "    if set_random:\n",
    "        random.seed(seed)\n",
    "    np.random.seed(seed)\n",
    "    if is_torch_available():\n",
    "        torch.manual_seed(seed)\n",
    "        torch.cuda.manual_seed_all(seed)\n",
    "        # ^^ safe to call this function even if cuda is not available\n",
    "    if is_tf_available():\n",
    "        import tensorflow as tf\n",
    "\n",
    "        tf.random.set_seed(seed)\n",
    "    \n",
    "def compute_metrics(eval_pred):\n",
    "    predictions, labels = eval_pred\n",
    "    predictions = np.argmax(predictions, axis=1)\n",
    "    return metric.compute(predictions=predictions, references=labels)"
   ]
  },
  {
   "cell_type": "code",
   "execution_count": 5,
   "id": "bd0722f7",
   "metadata": {},
   "outputs": [],
   "source": [
    "# Set visual style\n",
    "sns.set(\"talk\")\n",
    "sns.set_style(\"whitegrid\")\n",
    "\n",
    "#  set the rabdom seed \n",
    "seed = 31\n",
    "set_seed(seed)"
   ]
  },
  {
   "cell_type": "code",
   "execution_count": 6,
   "id": "812d80dc",
   "metadata": {},
   "outputs": [],
   "source": [
    "class CustomDataset(Dataset):\n",
    "\n",
    "    def __init__(self, dataframe, tokenizer, max_len=512):\n",
    "        self.tokenizer = tokenizer                      # the Tokenizer model\n",
    "        self.data      = dataframe                      # the full dataset\n",
    "        self.report    = dataframe.report               # the text data (i.e., the reports)\n",
    "        self.targets   = self.data.Report_as_Multilabel # labels' list to classify\n",
    "        self.max_len   = max_length                     # max length fro truncation\n",
    "\n",
    "    def __len__(self):\n",
    "        return len(self.report)\n",
    "\n",
    "    def __getitem__(self, index):\n",
    "        report = str(self.report[index])\n",
    "        report = \" \".join(report.split())\n",
    "\n",
    "        inputs = self.tokenizer.encode_plus(\n",
    "            report,\n",
    "            None,\n",
    "            add_special_tokens=True,\n",
    "            max_length=self.max_len,\n",
    "            pad_to_max_length=True,\n",
    "            return_token_type_ids=True\n",
    "        )\n",
    "        ids = inputs['input_ids']\n",
    "        mask = inputs['attention_mask']\n",
    "        token_type_ids = inputs[\"token_type_ids\"]\n",
    "\n",
    "        return {\n",
    "            'ids': torch.tensor(ids, dtype=torch.long),\n",
    "            'mask': torch.tensor(mask, dtype=torch.long),\n",
    "            'token_type_ids': torch.tensor(token_type_ids, dtype=torch.long),\n",
    "            'targets': torch.tensor(self.targets[index], dtype=torch.float)\n",
    "        }\n",
    "    \n",
    "# Creating the dataset and dataloader for the neural network\n",
    "def get_Fold(k_seed, train_size = 0.8):\n",
    "    \n",
    "    train_dataset = final_df_dataset.sample(frac=train_size, random_state=k_seed)\n",
    "    test_dataset  = final_df_dataset.drop(train_dataset.index).reset_index(drop=True)\n",
    "    train_dataset = train_dataset.reset_index(drop=True)\n",
    "\n",
    "    training_set = CustomDataset(train_dataset, tokenizer, max_length)\n",
    "    testing_set  = CustomDataset(test_dataset, tokenizer, max_length)\n",
    "\n",
    "    train_params = {\n",
    "        'batch_size': train_batch_size,\n",
    "        'shuffle': True,\n",
    "        'num_workers': 0\n",
    "    }\n",
    "\n",
    "    test_params = {\n",
    "        'batch_size': valid_batch_size,\n",
    "        'shuffle': True,\n",
    "        'num_workers': 0\n",
    "    }\n",
    "\n",
    "    training_loader = DataLoader(training_set, **train_params)\n",
    "    testing_loader  = DataLoader(testing_set, **test_params)\n",
    "    \n",
    "    return training_loader, testing_loader\n",
    "\n",
    "# Creating the customized model, by adding a drop out and a dense layer on top of \n",
    "# the BERT (or any other) model, to get the final output. \n",
    "class BERTClass(torch.nn.Module):\n",
    "    def __init__(self, model_name, n_classes, freeze_BERT=False, layer=-1, idx=0):\n",
    "        super(BERTClass, self).__init__()\n",
    "        self.l1 = transformers.BertModel.from_pretrained(model_name)\n",
    "        self.l2 = torch.nn.Dropout(0.3)\n",
    "        self.l3 = torch.nn.Linear(1024, n_classes)\n",
    "        self.layer = layer\n",
    "        self.idx   = idx  \n",
    "        # Froze the weight of model aside of the classifier\n",
    "        if froze_model_layer:\n",
    "            print(\"Freezing the layer of BERT model\")\n",
    "            for name, param in self.l1.named_parameters():\n",
    "                if \"classifier\" not in name:\n",
    "                    param.requires_grad = False\n",
    "                    \n",
    "    def forward(self, ids, mask, token_type_ids):\n",
    "        output_1 = self.l1(ids, attention_mask = mask, token_type_ids = token_type_ids)\n",
    "        output_1 = output_1.last_hidden_state[:, -1, :]\n",
    "        output_2 = self.l2(output_1)\n",
    "        output   = self.l3(output_2)\n",
    "        return output\n",
    "\n",
    "# Loss function \n",
    "def loss_fn(outputs, targets):\n",
    "    return torch.nn.BCEWithLogitsLoss()(outputs, targets)\n",
    "\n",
    "# Training regime\n",
    "def train(epoch, model, training_loader, optimizer, return_losses=False):\n",
    "    Losses = []\n",
    "    model.train()\n",
    "    for _, data in enumerate(training_loader, 0):\n",
    "        ids = data['ids'].to(device, dtype = torch.long)\n",
    "        mask = data['mask'].to(device, dtype = torch.long)\n",
    "        token_type_ids = data['token_type_ids'].to(device, dtype = torch.long)\n",
    "        targets = data['targets'].to(device, dtype = torch.float)\n",
    "\n",
    "        outputs = model(ids, mask, token_type_ids)\n",
    "\n",
    "        optimizer.zero_grad()\n",
    "        loss = loss_fn(outputs, targets)\n",
    "        if _%5000==0:\n",
    "            print(f'Epoch: {epoch}, Loss:  {loss.item()}')\n",
    "            Losses.append(loss.item())\n",
    "    \n",
    "        optimizer.zero_grad()\n",
    "        loss.backward()\n",
    "        optimizer.step()\n",
    "        \n",
    "    if return_losses:\n",
    "        return Losses\n",
    "    \n",
    "# Validate (test) the model\n",
    "def validation(model, testing_loader):\n",
    "    model.eval()\n",
    "    fin_targets=[]\n",
    "    fin_outputs=[]\n",
    "    with torch.no_grad():\n",
    "        for _, data in enumerate(testing_loader, 0):\n",
    "            ids = data['ids'].to(device, dtype = torch.long)\n",
    "            mask = data['mask'].to(device, dtype = torch.long)\n",
    "            token_type_ids = data['token_type_ids'].to(device, dtype = torch.long)\n",
    "            targets = data['targets'].to(device, dtype = torch.float)\n",
    "            outputs = model(ids, mask, token_type_ids)\n",
    "            fin_targets.extend(targets.cpu().detach().numpy().tolist())\n",
    "            fin_outputs.extend(torch.sigmoid(outputs).cpu().detach().numpy().tolist())\n",
    "    return fin_outputs, fin_targets"
   ]
  },
  {
   "cell_type": "markdown",
   "id": "favorite-prize",
   "metadata": {},
   "source": [
    "# Table of Content\n",
    "\n",
    "click on the titles to reach the described sections\n",
    "\n",
    "---------\n",
    "[Loading Data](#intro)\n",
    "\n",
    "[Dataset and Model Setup](#setup)\n",
    "\n",
    "[Training and Evaluation](#train_eval)\n",
    "\n",
    "[Analysis](#analysis)\n",
    "\n",
    "[K-Fold Experiment](#kfold)"
   ]
  },
  {
   "cell_type": "markdown",
   "id": "weird-illness",
   "metadata": {},
   "source": [
    "## Loading data<a id='intro'></a>"
   ]
  },
  {
   "cell_type": "code",
   "execution_count": 7,
   "id": "98529ba5",
   "metadata": {},
   "outputs": [],
   "source": [
    "# Load the dataset in CSV\n",
    "dream_records = pd.read_csv(\n",
    "    \"Reports_DreamerEmotions_PCACho_tsneCho_KMCluster2_KMCluster6_2WSA_6WSA.csv\"\n",
    ")\n",
    "\n",
    "Coding_emotions = {\n",
    "    \"AN\": \"Anger\",\n",
    "    \"AP\": \"Apprehension\",\n",
    "    \"SD\": \"Sadness\",\n",
    "    \"CO\": \"Confusion\",\n",
    "    \"HA\": \"Happiness\",\n",
    "    \n",
    "    \"Missing\": \"Missing\",\n",
    "}"
   ]
  },
  {
   "cell_type": "markdown",
   "id": "037d8ed9",
   "metadata": {},
   "source": [
    "Convert each set of labels/Emotion is a list signaling the prsence/absence of each emotion."
   ]
  },
  {
   "cell_type": "code",
   "execution_count": 8,
   "id": "0d8f9c47",
   "metadata": {},
   "outputs": [
    {
     "name": "stderr",
     "output_type": "stream",
     "text": [
      "100%|████████████████████████████████████| 1845/1845 [00:00<00:00, 22780.84it/s]\n"
     ]
    }
   ],
   "source": [
    "emotions_list = list(Coding_emotions.keys())\n",
    "emotions_list.remove(\"Missing\")\n",
    "\n",
    "report_as_multi_label = []\n",
    "for rprt_emtn_lst in tqdm(dream_records[\"Emotions\"]):\n",
    "    lcl_report_as_multi_label = []\n",
    "    for emotion_acronim in emotions_list:\n",
    "        if emotion_acronim in rprt_emtn_lst:\n",
    "            lcl_report_as_multi_label.append(1)\n",
    "        else:\n",
    "            lcl_report_as_multi_label.append(0)\n",
    "    report_as_multi_label.append(lcl_report_as_multi_label)\n",
    "\n",
    "dream_records[\"Report_as_Multilabel\"] = report_as_multi_label\n",
    "\n",
    "# final_df_dataset = dream_records\n",
    "\n",
    "final_df_dataset = dream_records[~dream_records[\"# Emotions\"].isin([0])].reset_index(drop=True)"
   ]
  },
  {
   "cell_type": "code",
   "execution_count": 9,
   "id": "b3b721ad",
   "metadata": {},
   "outputs": [
    {
     "data": {
      "text/plain": [
       "Index(['gender', 'age', 'type', 'collection', 'id', 'time', 'date', 'number',\n",
       "       'report', '# words', 'Emotions', '# Emotions', 'TSNE_x', 'TSNE_y',\n",
       "       'PCA_x', 'PCA_y', 'Kmean_Cluster_6', 'Kmean Cluster_2', '2W_SA_label',\n",
       "       '2W_SA_score', '6W_SA_dict', 'Report_as_Multilabel'],\n",
       "      dtype='object')"
      ]
     },
     "execution_count": 9,
     "metadata": {},
     "output_type": "execute_result"
    }
   ],
   "source": [
    "final_df_dataset.columns"
   ]
  },
  {
   "cell_type": "code",
   "execution_count": 10,
   "id": "bc133132",
   "metadata": {},
   "outputs": [],
   "source": [
    "final_df_dataset = final_df_dataset[[\"report\", \"Report_as_Multilabel\"]]"
   ]
  },
  {
   "cell_type": "markdown",
   "id": "5ee413b2",
   "metadata": {},
   "source": [
    "## Dataset and Model Setup<a id='setup'></a>"
   ]
  },
  {
   "cell_type": "code",
   "execution_count": 11,
   "id": "397e094e",
   "metadata": {},
   "outputs": [],
   "source": [
    "# Defining model's specifications \n",
    "model_name        = \"bert-large-cased\"\n",
    "max_length        = 512\n",
    "device            = \"cuda\"\n",
    "epochs            = 10\n",
    "train_batch_size  = 8 # always use power of 2!\n",
    "valid_batch_size  = 4\n",
    "learning_rate     = 1e-05\n",
    "froze_model_layer = False \n",
    "\n",
    "# Tokenizer defined first to tokenize the inputs in the Dataset object\n",
    "tokenizer = BertTokenizerFast.from_pretrained(model_name, do_lower_case=False)"
   ]
  },
  {
   "cell_type": "code",
   "execution_count": 12,
   "id": "5c7277de",
   "metadata": {},
   "outputs": [
    {
     "name": "stdout",
     "output_type": "stream",
     "text": [
      "FULL Dataset:  (778, 2)\n",
      "TRAIN Dataset: (622, 2)\n",
      "TEST Dataset:  (156, 2)\n"
     ]
    }
   ],
   "source": [
    "# Creating the dataset and dataloader for the neural network\n",
    "\n",
    "train_size = 0.8\n",
    "train_dataset = final_df_dataset.sample(frac=train_size, random_state=seed)\n",
    "test_dataset  = final_df_dataset.drop(train_dataset.index).reset_index(drop=True)\n",
    "train_dataset = train_dataset.reset_index(drop=True)\n",
    "\n",
    "print(\"FULL Dataset:  {}\".format(final_df_dataset.shape))\n",
    "print(\"TRAIN Dataset: {}\".format(train_dataset.shape))\n",
    "print(\"TEST Dataset:  {}\".format(test_dataset.shape))\n",
    "\n",
    "training_set = CustomDataset(train_dataset, tokenizer, max_length)\n",
    "testing_set  = CustomDataset(test_dataset, tokenizer, max_length)"
   ]
  },
  {
   "cell_type": "code",
   "execution_count": 13,
   "id": "7c76d4da",
   "metadata": {},
   "outputs": [],
   "source": [
    "train_params = {\n",
    "    'batch_size': train_batch_size,\n",
    "    'shuffle': True,\n",
    "    'num_workers': 0\n",
    "}\n",
    "\n",
    "test_params = {\n",
    "    'batch_size': valid_batch_size,\n",
    "    'shuffle': True,\n",
    "    'num_workers': 0\n",
    "}\n",
    "\n",
    "training_loader = DataLoader(training_set, **train_params)\n",
    "testing_loader  = DataLoader(testing_set, **test_params)"
   ]
  },
  {
   "cell_type": "code",
   "execution_count": 14,
   "id": "5df33800",
   "metadata": {},
   "outputs": [
    {
     "name": "stderr",
     "output_type": "stream",
     "text": [
      "Some weights of the model checkpoint at bert-large-cased were not used when initializing BertModel: ['cls.seq_relationship.weight', 'cls.seq_relationship.bias', 'cls.predictions.transform.dense.bias', 'cls.predictions.transform.LayerNorm.weight', 'cls.predictions.transform.LayerNorm.bias', 'cls.predictions.bias', 'cls.predictions.transform.dense.weight', 'cls.predictions.decoder.weight']\n",
      "- This IS expected if you are initializing BertModel from the checkpoint of a model trained on another task or with another architecture (e.g. initializing a BertForSequenceClassification model from a BertForPreTraining model).\n",
      "- This IS NOT expected if you are initializing BertModel from the checkpoint of a model that you expect to be exactly identical (initializing a BertForSequenceClassification model from a BertForSequenceClassification model).\n"
     ]
    }
   ],
   "source": [
    "model_tuned = BERTClass(\n",
    "    model_name=model_name, \n",
    "    n_classes=len(emotions_list), \n",
    "    freeze_BERT=False\n",
    ")\n",
    "\n",
    "model_tuned.to(device)\n",
    "\n",
    "optimizer_tuned = torch.optim.Adam(\n",
    "    params=model_tuned.parameters(), \n",
    "    lr=learning_rate\n",
    ")"
   ]
  },
  {
   "cell_type": "markdown",
   "id": "8fd2fa5f",
   "metadata": {},
   "source": [
    "## Training and Evaluation<a id='train_eval'></a>\n",
    "Training a model on a single split "
   ]
  },
  {
   "cell_type": "code",
   "execution_count": 15,
   "id": "e7d41af9",
   "metadata": {},
   "outputs": [
    {
     "name": "stderr",
     "output_type": "stream",
     "text": [
      "Truncation was not explicitly activated but `max_length` is provided a specific value, please use `truncation=True` to explicitly truncate examples to max length. Defaulting to 'longest_first' truncation strategy. If you encode pairs of sequences (GLUE-style) with the tokenizer you can select this strategy more precisely by providing a specific strategy to `truncation`.\n",
      "/srv/galene1/lb540/miniconda/envs/main_39/lib/python3.9/site-packages/transformers/tokenization_utils_base.py:2323: FutureWarning: The `pad_to_max_length` argument is deprecated and will be removed in a future version, use `padding=True` or `padding='longest'` to pad to the longest sequence in the batch, or use `padding='max_length'` to pad to a max length. In this case, you can give a specific length with `max_length` (e.g. `max_length=45`) or leave max_length to None to pad to the maximal input size of the model (e.g. 512 for Bert).\n",
      "  warnings.warn(\n"
     ]
    },
    {
     "name": "stdout",
     "output_type": "stream",
     "text": [
      "Epoch: 0, Loss:  0.7251710295677185\n",
      "Epoch: 1, Loss:  0.5469126105308533\n",
      "Epoch: 2, Loss:  0.5461908578872681\n",
      "Epoch: 3, Loss:  0.4007751941680908\n",
      "Epoch: 4, Loss:  0.36560940742492676\n",
      "Epoch: 5, Loss:  0.21447134017944336\n",
      "Epoch: 6, Loss:  0.05728339031338692\n",
      "Epoch: 7, Loss:  0.05159328132867813\n",
      "Epoch: 8, Loss:  0.023010646924376488\n",
      "Epoch: 9, Loss:  0.03386959433555603\n"
     ]
    }
   ],
   "source": [
    "for ep in range(epochs):\n",
    "    train(ep, model_tuned, training_loader, optimizer_tuned)"
   ]
  },
  {
   "cell_type": "code",
   "execution_count": 16,
   "id": "5a039e8e",
   "metadata": {},
   "outputs": [],
   "source": [
    "outputs, targets = validation(model_tuned, testing_loader)\n",
    "outputs = np.array(outputs) >= 0.5"
   ]
  },
  {
   "cell_type": "code",
   "execution_count": 17,
   "id": "6aa176d0",
   "metadata": {},
   "outputs": [
    {
     "data": {
      "text/html": [
       "<div>\n",
       "<style scoped>\n",
       "    .dataframe tbody tr th:only-of-type {\n",
       "        vertical-align: middle;\n",
       "    }\n",
       "\n",
       "    .dataframe tbody tr th {\n",
       "        vertical-align: top;\n",
       "    }\n",
       "\n",
       "    .dataframe thead th {\n",
       "        text-align: right;\n",
       "    }\n",
       "</style>\n",
       "<table border=\"1\" class=\"dataframe\">\n",
       "  <thead>\n",
       "    <tr style=\"text-align: right;\">\n",
       "      <th></th>\n",
       "      <th>precision</th>\n",
       "      <th>recall</th>\n",
       "      <th>f1-score</th>\n",
       "      <th>support</th>\n",
       "    </tr>\n",
       "  </thead>\n",
       "  <tbody>\n",
       "    <tr>\n",
       "      <th>AN</th>\n",
       "      <td>0.88</td>\n",
       "      <td>0.81</td>\n",
       "      <td>0.85</td>\n",
       "      <td>27</td>\n",
       "    </tr>\n",
       "    <tr>\n",
       "      <th>AP</th>\n",
       "      <td>0.85</td>\n",
       "      <td>0.90</td>\n",
       "      <td>0.87</td>\n",
       "      <td>68</td>\n",
       "    </tr>\n",
       "    <tr>\n",
       "      <th>SD</th>\n",
       "      <td>0.78</td>\n",
       "      <td>0.82</td>\n",
       "      <td>0.80</td>\n",
       "      <td>22</td>\n",
       "    </tr>\n",
       "    <tr>\n",
       "      <th>CO</th>\n",
       "      <td>0.86</td>\n",
       "      <td>0.61</td>\n",
       "      <td>0.72</td>\n",
       "      <td>31</td>\n",
       "    </tr>\n",
       "    <tr>\n",
       "      <th>HA</th>\n",
       "      <td>0.91</td>\n",
       "      <td>0.91</td>\n",
       "      <td>0.91</td>\n",
       "      <td>32</td>\n",
       "    </tr>\n",
       "    <tr>\n",
       "      <th>micro avg</th>\n",
       "      <td>0.86</td>\n",
       "      <td>0.83</td>\n",
       "      <td>0.84</td>\n",
       "      <td>180</td>\n",
       "    </tr>\n",
       "    <tr>\n",
       "      <th>macro avg</th>\n",
       "      <td>0.86</td>\n",
       "      <td>0.81</td>\n",
       "      <td>0.83</td>\n",
       "      <td>180</td>\n",
       "    </tr>\n",
       "    <tr>\n",
       "      <th>weighted avg</th>\n",
       "      <td>0.86</td>\n",
       "      <td>0.83</td>\n",
       "      <td>0.84</td>\n",
       "      <td>180</td>\n",
       "    </tr>\n",
       "    <tr>\n",
       "      <th>samples avg</th>\n",
       "      <td>0.85</td>\n",
       "      <td>0.84</td>\n",
       "      <td>0.84</td>\n",
       "      <td>180</td>\n",
       "    </tr>\n",
       "  </tbody>\n",
       "</table>\n",
       "</div>"
      ],
      "text/plain": [
       "              precision  recall  f1-score  support\n",
       "AN                 0.88    0.81      0.85       27\n",
       "AP                 0.85    0.90      0.87       68\n",
       "SD                 0.78    0.82      0.80       22\n",
       "CO                 0.86    0.61      0.72       31\n",
       "HA                 0.91    0.91      0.91       32\n",
       "micro avg          0.86    0.83      0.84      180\n",
       "macro avg          0.86    0.81      0.83      180\n",
       "weighted avg       0.86    0.83      0.84      180\n",
       "samples avg        0.85    0.84      0.84      180"
      ]
     },
     "execution_count": 17,
     "metadata": {},
     "output_type": "execute_result"
    }
   ],
   "source": [
    "pd.DataFrame.from_dict(\n",
    "    metrics.classification_report(\n",
    "        targets,\n",
    "        outputs,\n",
    "        target_names=emotions_list,\n",
    "        zero_division=0,\n",
    "        output_dict=True,\n",
    "    ), \n",
    "    orient='index',\n",
    ").round(2)"
   ]
  },
  {
   "cell_type": "markdown",
   "id": "e0074669",
   "metadata": {},
   "source": [
    "## Analysis<a id='analysis'></a>"
   ]
  },
  {
   "cell_type": "code",
   "execution_count": 18,
   "id": "b03768b0",
   "metadata": {},
   "outputs": [
    {
     "data": {
      "image/png": "[encoded data removed]",
      "text/plain": [
       "<Figure size 1080x216 with 5 Axes>"
      ]
     },
     "metadata": {
      "needs_background": "light"
     },
     "output_type": "display_data"
    }
   ],
   "source": [
    "emotions_CM = metrics.multilabel_confusion_matrix(\n",
    "    targets,\n",
    "    outputs,\n",
    ")\n",
    "\n",
    "plt.figure(figsize=(15, 3))\n",
    "for cnt, cm in enumerate(emotions_CM): \n",
    "    \n",
    "    plt.subplot(1,5,cnt+1) \n",
    "    g = sns.heatmap(cm, cmap=\"crest\", cbar=False, annot=True)\n",
    "    plt.title(\"Emotion: {}\".format(emotions_list[cnt]))\n",
    "    plt.xlabel(\"Predicted\")\n",
    "    if cnt == 0:\n",
    "        plt.ylabel(\"True\")\n",
    "    else:\n",
    "        g.set_yticklabels([\"\", \"\"])\n",
    "        \n",
    "plt.show()"
   ]
  },
  {
   "cell_type": "code",
   "execution_count": 20,
   "id": "25735e0d",
   "metadata": {},
   "outputs": [
    {
     "data": {
      "image/png": "[encoded data removed]",
      "text/plain": [
       "<Figure size 1080x504 with 2 Axes>"
      ]
     },
     "metadata": {
      "needs_background": "light"
     },
     "output_type": "display_data"
    }
   ],
   "source": [
    "plt.figure(figsize=(15, 7))\n",
    "for cnt, [name, data] in enumerate({\"True\":targets, \"Predicted\":outputs}.items()): \n",
    "    \n",
    "    rot_data = np.rot90(data)\n",
    "    _bar = True if cnt != 0 else False\n",
    "    plt.subplot(2,1,cnt+1)\n",
    "    g = sns.heatmap(\n",
    "            rot_data, \n",
    "            cmap=\"crest\",\n",
    "            linewidth=.8,\n",
    "            xticklabels=False, \n",
    "            yticklabels=list(reversed(emotions_list)),\n",
    "            cbar=False,\n",
    "    )\n",
    "    g.set_yticklabels(g.get_yticklabels(), rotation=30)        \n",
    "    plt.title(\"{}\".format(name))\n",
    "    \n",
    "plt.tight_layout()\n",
    "plt.show()"
   ]
  },
  {
   "cell_type": "markdown",
   "id": "8c980b2d",
   "metadata": {},
   "source": [
    "In the \"DNA\" plot above, each column represents a single Dream Report, while each row reflects a specific emotion. The rectangles represent the labels of each report. Blue indicates the presence of that label (i.e., the report was labelled as containing that emotion), while green indicates its absence."
   ]
  },
  {
   "cell_type": "code",
   "execution_count": null,
   "id": "d48c69e8",
   "metadata": {},
   "outputs": [],
   "source": []
  },
  {
   "cell_type": "markdown",
   "id": "1b9954c3",
   "metadata": {},
   "source": [
    "## K-Fold Cross Validation<a id='kfold'></a>\n",
    "In previous experiment, we observed a jump in perfprmance after 5 epochs. The K-Fold experimetn should allow us to understand how stable such jump is, acorss different random samples of the dataset."
   ]
  },
  {
   "cell_type": "code",
   "execution_count": 13,
   "id": "30b5536c",
   "metadata": {},
   "outputs": [],
   "source": [
    "# Defining model's specifications \n",
    "model_name        = \"bert-large-cased\"\n",
    "max_length        = 512\n",
    "device            = \"cuda\"\n",
    "epochs            = 10\n",
    "train_batch_size  = 8 # always use power of 2!\n",
    "valid_batch_size  = 4\n",
    "learning_rate     = 1e-05\n",
    "froze_model_layer = False \n",
    "K_fold            = 5\n",
    "\n",
    "# Tokenizer defined first to tokenize the inputs in the Dataset object\n",
    "tokenizer = BertTokenizerFast.from_pretrained(model_name, do_lower_case=False)"
   ]
  },
  {
   "cell_type": "code",
   "execution_count": 14,
   "id": "35cc123d",
   "metadata": {
    "scrolled": false
   },
   "outputs": [
    {
     "name": "stdout",
     "output_type": "stream",
     "text": [
      "Fold 1\n"
     ]
    },
    {
     "name": "stderr",
     "output_type": "stream",
     "text": [
      "Some weights of the model checkpoint at bert-large-cased were not used when initializing BertModel: ['cls.predictions.transform.LayerNorm.weight', 'cls.predictions.bias', 'cls.predictions.decoder.weight', 'cls.seq_relationship.bias', 'cls.seq_relationship.weight', 'cls.predictions.transform.dense.weight', 'cls.predictions.transform.dense.bias', 'cls.predictions.transform.LayerNorm.bias']\n",
      "- This IS expected if you are initializing BertModel from the checkpoint of a model trained on another task or with another architecture (e.g. initializing a BertForSequenceClassification model from a BertForPreTraining model).\n",
      "- This IS NOT expected if you are initializing BertModel from the checkpoint of a model that you expect to be exactly identical (initializing a BertForSequenceClassification model from a BertForSequenceClassification model).\n",
      "Truncation was not explicitly activated but `max_length` is provided a specific value, please use `truncation=True` to explicitly truncate examples to max length. Defaulting to 'longest_first' truncation strategy. If you encode pairs of sequences (GLUE-style) with the tokenizer you can select this strategy more precisely by providing a specific strategy to `truncation`.\n",
      "/srv/galene1/lb540/miniconda/envs/main_39/lib/python3.9/site-packages/transformers/tokenization_utils_base.py:2323: FutureWarning: The `pad_to_max_length` argument is deprecated and will be removed in a future version, use `padding=True` or `padding='longest'` to pad to the longest sequence in the batch, or use `padding='max_length'` to pad to a max length. In this case, you can give a specific length with `max_length` (e.g. `max_length=45`) or leave max_length to None to pad to the maximal input size of the model (e.g. 512 for Bert).\n",
      "  warnings.warn(\n"
     ]
    },
    {
     "name": "stdout",
     "output_type": "stream",
     "text": [
      "Epoch: 0, Loss:  0.7142664790153503\n",
      "Epoch: 1, Loss:  0.6288732886314392\n",
      "Epoch: 2, Loss:  0.47143539786338806\n",
      "Epoch: 3, Loss:  0.3421362340450287\n",
      "Epoch: 4, Loss:  0.21221759915351868\n",
      "Epoch: 5, Loss:  0.06725975126028061\n",
      "Epoch: 6, Loss:  0.03204110264778137\n",
      "Epoch: 7, Loss:  0.04540674760937691\n",
      "Epoch: 8, Loss:  0.01690652407705784\n",
      "Epoch: 9, Loss:  0.01999722234904766\n",
      "Testing the Model\n",
      "F1 samples avg.: 0.87\n",
      "Fold 2\n"
     ]
    },
    {
     "name": "stderr",
     "output_type": "stream",
     "text": [
      "Some weights of the model checkpoint at bert-large-cased were not used when initializing BertModel: ['cls.predictions.transform.LayerNorm.weight', 'cls.predictions.bias', 'cls.predictions.decoder.weight', 'cls.seq_relationship.bias', 'cls.seq_relationship.weight', 'cls.predictions.transform.dense.weight', 'cls.predictions.transform.dense.bias', 'cls.predictions.transform.LayerNorm.bias']\n",
      "- This IS expected if you are initializing BertModel from the checkpoint of a model trained on another task or with another architecture (e.g. initializing a BertForSequenceClassification model from a BertForPreTraining model).\n",
      "- This IS NOT expected if you are initializing BertModel from the checkpoint of a model that you expect to be exactly identical (initializing a BertForSequenceClassification model from a BertForSequenceClassification model).\n",
      "/srv/galene1/lb540/miniconda/envs/main_39/lib/python3.9/site-packages/transformers/tokenization_utils_base.py:2323: FutureWarning: The `pad_to_max_length` argument is deprecated and will be removed in a future version, use `padding=True` or `padding='longest'` to pad to the longest sequence in the batch, or use `padding='max_length'` to pad to a max length. In this case, you can give a specific length with `max_length` (e.g. `max_length=45`) or leave max_length to None to pad to the maximal input size of the model (e.g. 512 for Bert).\n",
      "  warnings.warn(\n"
     ]
    },
    {
     "name": "stdout",
     "output_type": "stream",
     "text": [
      "Epoch: 0, Loss:  0.6760182976722717\n",
      "Epoch: 1, Loss:  0.4026985168457031\n",
      "Epoch: 2, Loss:  0.560945987701416\n",
      "Epoch: 3, Loss:  0.5252399444580078\n",
      "Epoch: 4, Loss:  0.28452640771865845\n",
      "Epoch: 5, Loss:  0.11542550474405289\n",
      "Epoch: 6, Loss:  0.06017047166824341\n",
      "Epoch: 7, Loss:  0.030977372080087662\n",
      "Epoch: 8, Loss:  0.026989465579390526\n",
      "Epoch: 9, Loss:  0.029974211007356644\n",
      "Testing the Model\n",
      "F1 samples avg.: 0.82\n",
      "Fold 3\n"
     ]
    },
    {
     "name": "stderr",
     "output_type": "stream",
     "text": [
      "Some weights of the model checkpoint at bert-large-cased were not used when initializing BertModel: ['cls.predictions.transform.LayerNorm.weight', 'cls.predictions.bias', 'cls.predictions.decoder.weight', 'cls.seq_relationship.bias', 'cls.seq_relationship.weight', 'cls.predictions.transform.dense.weight', 'cls.predictions.transform.dense.bias', 'cls.predictions.transform.LayerNorm.bias']\n",
      "- This IS expected if you are initializing BertModel from the checkpoint of a model trained on another task or with another architecture (e.g. initializing a BertForSequenceClassification model from a BertForPreTraining model).\n",
      "- This IS NOT expected if you are initializing BertModel from the checkpoint of a model that you expect to be exactly identical (initializing a BertForSequenceClassification model from a BertForSequenceClassification model).\n",
      "/srv/galene1/lb540/miniconda/envs/main_39/lib/python3.9/site-packages/transformers/tokenization_utils_base.py:2323: FutureWarning: The `pad_to_max_length` argument is deprecated and will be removed in a future version, use `padding=True` or `padding='longest'` to pad to the longest sequence in the batch, or use `padding='max_length'` to pad to a max length. In this case, you can give a specific length with `max_length` (e.g. `max_length=45`) or leave max_length to None to pad to the maximal input size of the model (e.g. 512 for Bert).\n",
      "  warnings.warn(\n"
     ]
    },
    {
     "name": "stdout",
     "output_type": "stream",
     "text": [
      "Epoch: 0, Loss:  0.6716623306274414\n",
      "Epoch: 1, Loss:  0.48246413469314575\n",
      "Epoch: 2, Loss:  0.45767608284950256\n",
      "Epoch: 3, Loss:  0.1634739637374878\n",
      "Epoch: 4, Loss:  0.1641058325767517\n",
      "Epoch: 5, Loss:  0.13181106746196747\n",
      "Epoch: 6, Loss:  0.029951825737953186\n",
      "Epoch: 7, Loss:  0.01999967359006405\n",
      "Epoch: 8, Loss:  0.019200420007109642\n",
      "Epoch: 9, Loss:  0.021248728036880493\n",
      "Testing the Model\n",
      "F1 samples avg.: 0.87\n",
      "Fold 4\n"
     ]
    },
    {
     "name": "stderr",
     "output_type": "stream",
     "text": [
      "Some weights of the model checkpoint at bert-large-cased were not used when initializing BertModel: ['cls.predictions.transform.LayerNorm.weight', 'cls.predictions.bias', 'cls.predictions.decoder.weight', 'cls.seq_relationship.bias', 'cls.seq_relationship.weight', 'cls.predictions.transform.dense.weight', 'cls.predictions.transform.dense.bias', 'cls.predictions.transform.LayerNorm.bias']\n",
      "- This IS expected if you are initializing BertModel from the checkpoint of a model trained on another task or with another architecture (e.g. initializing a BertForSequenceClassification model from a BertForPreTraining model).\n",
      "- This IS NOT expected if you are initializing BertModel from the checkpoint of a model that you expect to be exactly identical (initializing a BertForSequenceClassification model from a BertForSequenceClassification model).\n",
      "/srv/galene1/lb540/miniconda/envs/main_39/lib/python3.9/site-packages/transformers/tokenization_utils_base.py:2323: FutureWarning: The `pad_to_max_length` argument is deprecated and will be removed in a future version, use `padding=True` or `padding='longest'` to pad to the longest sequence in the batch, or use `padding='max_length'` to pad to a max length. In this case, you can give a specific length with `max_length` (e.g. `max_length=45`) or leave max_length to None to pad to the maximal input size of the model (e.g. 512 for Bert).\n",
      "  warnings.warn(\n"
     ]
    },
    {
     "name": "stdout",
     "output_type": "stream",
     "text": [
      "Epoch: 0, Loss:  0.7364206910133362\n",
      "Epoch: 1, Loss:  0.4020026624202728\n",
      "Epoch: 2, Loss:  0.44552093744277954\n",
      "Epoch: 3, Loss:  0.3035637438297272\n",
      "Epoch: 4, Loss:  0.1057169958949089\n",
      "Epoch: 5, Loss:  0.19502641260623932\n",
      "Epoch: 6, Loss:  0.08095550537109375\n",
      "Epoch: 7, Loss:  0.07792723178863525\n",
      "Epoch: 8, Loss:  0.027644097805023193\n",
      "Epoch: 9, Loss:  0.030544554814696312\n",
      "Testing the Model\n",
      "F1 samples avg.: 0.91\n",
      "Fold 5\n"
     ]
    },
    {
     "name": "stderr",
     "output_type": "stream",
     "text": [
      "Some weights of the model checkpoint at bert-large-cased were not used when initializing BertModel: ['cls.predictions.transform.LayerNorm.weight', 'cls.predictions.bias', 'cls.predictions.decoder.weight', 'cls.seq_relationship.bias', 'cls.seq_relationship.weight', 'cls.predictions.transform.dense.weight', 'cls.predictions.transform.dense.bias', 'cls.predictions.transform.LayerNorm.bias']\n",
      "- This IS expected if you are initializing BertModel from the checkpoint of a model trained on another task or with another architecture (e.g. initializing a BertForSequenceClassification model from a BertForPreTraining model).\n",
      "- This IS NOT expected if you are initializing BertModel from the checkpoint of a model that you expect to be exactly identical (initializing a BertForSequenceClassification model from a BertForSequenceClassification model).\n",
      "/srv/galene1/lb540/miniconda/envs/main_39/lib/python3.9/site-packages/transformers/tokenization_utils_base.py:2323: FutureWarning: The `pad_to_max_length` argument is deprecated and will be removed in a future version, use `padding=True` or `padding='longest'` to pad to the longest sequence in the batch, or use `padding='max_length'` to pad to a max length. In this case, you can give a specific length with `max_length` (e.g. `max_length=45`) or leave max_length to None to pad to the maximal input size of the model (e.g. 512 for Bert).\n",
      "  warnings.warn(\n"
     ]
    },
    {
     "name": "stdout",
     "output_type": "stream",
     "text": [
      "Epoch: 0, Loss:  0.750389575958252\n",
      "Epoch: 1, Loss:  0.5414676070213318\n",
      "Epoch: 2, Loss:  0.48319578170776367\n",
      "Epoch: 3, Loss:  0.5341503024101257\n",
      "Epoch: 4, Loss:  0.16450099647045135\n",
      "Epoch: 5, Loss:  0.12409074604511261\n",
      "Epoch: 6, Loss:  0.056649576872587204\n",
      "Epoch: 7, Loss:  0.059060242027044296\n",
      "Epoch: 8, Loss:  0.03171442076563835\n",
      "Epoch: 9, Loss:  0.023519502952694893\n",
      "Testing the Model\n",
      "F1 samples avg.: 0.89\n"
     ]
    }
   ],
   "source": [
    "SCORES, LOSSES, DATAFRAMES = [], [], []\n",
    "for fold in range(K_fold):\n",
    "\n",
    "    print('Fold {}'.format(fold + 1))\n",
    "    rand_int = random.randint(0, 10000)\n",
    "    train_loader, testing_loader = get_Fold(rand_int, train_size = 0.8)\n",
    "\n",
    "    # makes sure the seed for model init is the same\n",
    "    set_seed(seed, set_random=False) \n",
    "    \n",
    "    # Set Model and Optmizer (for each fold)\n",
    "    model_tuned = BERTClass(\n",
    "        model_name=model_name, \n",
    "        n_classes=len(emotions_list), \n",
    "        freeze_BERT=False\n",
    "    )\n",
    "\n",
    "    optimizer_tuned = torch.optim.Adam(\n",
    "    params=model_tuned.parameters(), \n",
    "    lr=learning_rate\n",
    "    ) \n",
    "    \n",
    "    model_tuned.to(device)\n",
    "    \n",
    "    #Train and test the model\n",
    "    for ep in range(epochs):\n",
    "        train_losses = train(\n",
    "            ep, \n",
    "            model_tuned, \n",
    "            train_loader, \n",
    "            optimizer_tuned, \n",
    "            return_losses=True,\n",
    "        )\n",
    "        LOSSES.append(train_losses)\n",
    "    \n",
    "    print(\"Testing the Model\")\n",
    "    outputs, targets = validation(model_tuned, testing_loader)\n",
    "    outputs = np.array(outputs) >= 0.5    \n",
    "    \n",
    "    # send the model back to cpu and delete\n",
    "    model_tuned.to(\"cpu\")\n",
    "    del model_tuned \n",
    "    \n",
    "    # Compute and print results\n",
    "    results_df = pd.DataFrame.from_dict(\n",
    "        metrics.classification_report(\n",
    "            targets,\n",
    "            outputs,\n",
    "            target_names=emotions_list,\n",
    "            zero_division=0,\n",
    "            output_dict=True,\n",
    "        ), \n",
    "        orient='index',\n",
    "    ).round(2)\n",
    "    results_df[\"Fold\"] = [fold]*len(results_df)\n",
    "    DATAFRAMES.append(results_df)\n",
    "    \n",
    "    f1_samp_av = results_df.at[\"samples avg\", \"f1-score\"]\n",
    "    print(\"F1 samples avg.: {}\".format(f1_samp_av), end = \"\\n\")\n",
    "    SCORES.append(f1_samp_av)"
   ]
  },
  {
   "cell_type": "code",
   "execution_count": 15,
   "id": "6141bb43",
   "metadata": {},
   "outputs": [],
   "source": [
    "epoch_loss_df = [] \n",
    "for f_i, fold in enumerate(np.array(LOSSES).reshape(K_fold, epochs)):\n",
    "        for e_i, ep_lss in enumerate(fold):\n",
    "            epoch_loss_df.append([e_i+1, ep_lss, f_i+1])\n",
    "\n",
    "epoch_loss_df = pd.DataFrame(epoch_loss_df, columns=[\"Epoch\", \"Loss\", \"Fold\"])"
   ]
  },
  {
   "cell_type": "code",
   "execution_count": 22,
   "id": "bd543f06",
   "metadata": {},
   "outputs": [
    {
     "name": "stdout",
     "output_type": "stream",
     "text": [
      "\n"
     ]
    },
    {
     "data": {
      "image/png": "[encoded data removed]",
      "text/plain": [
       "<Figure size 432x288 with 1 Axes>"
      ]
     },
     "metadata": {
      "needs_background": "light"
     },
     "output_type": "display_data"
    }
   ],
   "source": [
    "g = sns.lineplot(\n",
    "    epoch_loss_df, \n",
    "    x=\"Epoch\", \n",
    "    y=\"Loss\", \n",
    "    errorbar=(\"sd\", 1)\n",
    ")\n",
    "\n",
    "g.set_xticks([i+1 for i in range(10)])\n",
    "g.set_xticklabels([i+1 for i in range(10)])\n",
    "print()"
   ]
  },
  {
   "cell_type": "code",
   "execution_count": 17,
   "id": "3d2ee655",
   "metadata": {},
   "outputs": [
    {
     "name": "stdout",
     "output_type": "stream",
     "text": [
      "Mean F1 samples avg.:87 ± 2.99\n"
     ]
    }
   ],
   "source": [
    "print(\"Mean F1 samples avg.:{:.0f} ± {:.2f}\".format(100*np.mean(SCORES), 100*np.std(SCORES)))"
   ]
  },
  {
   "cell_type": "code",
   "execution_count": 48,
   "id": "16f97f7c",
   "metadata": {},
   "outputs": [
    {
     "data": {
      "text/html": [
       "<div>\n",
       "<style scoped>\n",
       "    .dataframe tbody tr th:only-of-type {\n",
       "        vertical-align: middle;\n",
       "    }\n",
       "\n",
       "    .dataframe tbody tr th {\n",
       "        vertical-align: top;\n",
       "    }\n",
       "\n",
       "    .dataframe thead th {\n",
       "        text-align: right;\n",
       "    }\n",
       "</style>\n",
       "<table border=\"1\" class=\"dataframe\">\n",
       "  <thead>\n",
       "    <tr style=\"text-align: right;\">\n",
       "      <th></th>\n",
       "      <th>precision</th>\n",
       "      <th>recall</th>\n",
       "      <th>f1-score</th>\n",
       "      <th>support</th>\n",
       "      <th>Fold</th>\n",
       "    </tr>\n",
       "  </thead>\n",
       "  <tbody>\n",
       "    <tr>\n",
       "      <th>AN</th>\n",
       "      <td>0.872</td>\n",
       "      <td>0.860</td>\n",
       "      <td>0.860</td>\n",
       "      <td>31.4</td>\n",
       "      <td>2.0</td>\n",
       "    </tr>\n",
       "    <tr>\n",
       "      <th>AP</th>\n",
       "      <td>0.878</td>\n",
       "      <td>0.870</td>\n",
       "      <td>0.874</td>\n",
       "      <td>75.0</td>\n",
       "      <td>2.0</td>\n",
       "    </tr>\n",
       "    <tr>\n",
       "      <th>SD</th>\n",
       "      <td>0.862</td>\n",
       "      <td>0.798</td>\n",
       "      <td>0.828</td>\n",
       "      <td>24.6</td>\n",
       "      <td>2.0</td>\n",
       "    </tr>\n",
       "    <tr>\n",
       "      <th>CO</th>\n",
       "      <td>0.900</td>\n",
       "      <td>0.786</td>\n",
       "      <td>0.836</td>\n",
       "      <td>33.6</td>\n",
       "      <td>2.0</td>\n",
       "    </tr>\n",
       "    <tr>\n",
       "      <th>HA</th>\n",
       "      <td>0.868</td>\n",
       "      <td>0.878</td>\n",
       "      <td>0.872</td>\n",
       "      <td>36.0</td>\n",
       "      <td>2.0</td>\n",
       "    </tr>\n",
       "    <tr>\n",
       "      <th>micro avg</th>\n",
       "      <td>0.876</td>\n",
       "      <td>0.850</td>\n",
       "      <td>0.858</td>\n",
       "      <td>200.6</td>\n",
       "      <td>2.0</td>\n",
       "    </tr>\n",
       "    <tr>\n",
       "      <th>macro avg</th>\n",
       "      <td>0.876</td>\n",
       "      <td>0.838</td>\n",
       "      <td>0.852</td>\n",
       "      <td>200.6</td>\n",
       "      <td>2.0</td>\n",
       "    </tr>\n",
       "    <tr>\n",
       "      <th>weighted avg</th>\n",
       "      <td>0.878</td>\n",
       "      <td>0.850</td>\n",
       "      <td>0.858</td>\n",
       "      <td>200.6</td>\n",
       "      <td>2.0</td>\n",
       "    </tr>\n",
       "    <tr>\n",
       "      <th>samples avg</th>\n",
       "      <td>0.890</td>\n",
       "      <td>0.880</td>\n",
       "      <td>0.872</td>\n",
       "      <td>200.6</td>\n",
       "      <td>2.0</td>\n",
       "    </tr>\n",
       "  </tbody>\n",
       "</table>\n",
       "</div>"
      ],
      "text/plain": [
       "              precision  recall  f1-score  support  Fold\n",
       "AN                0.872   0.860     0.860     31.4   2.0\n",
       "AP                0.878   0.870     0.874     75.0   2.0\n",
       "SD                0.862   0.798     0.828     24.6   2.0\n",
       "CO                0.900   0.786     0.836     33.6   2.0\n",
       "HA                0.868   0.878     0.872     36.0   2.0\n",
       "micro avg         0.876   0.850     0.858    200.6   2.0\n",
       "macro avg         0.876   0.838     0.852    200.6   2.0\n",
       "weighted avg      0.878   0.850     0.858    200.6   2.0\n",
       "samples avg       0.890   0.880     0.872    200.6   2.0"
      ]
     },
     "execution_count": 48,
     "metadata": {},
     "output_type": "execute_result"
    }
   ],
   "source": [
    "np.sum(DATAFRAMES)/len(DATAFRAMES)"
   ]
  },
  {
   "cell_type": "code",
   "execution_count": 63,
   "id": "f633c89a",
   "metadata": {},
   "outputs": [
    {
     "data": {
      "text/html": [
       "<div>\n",
       "<style scoped>\n",
       "    .dataframe tbody tr th:only-of-type {\n",
       "        vertical-align: middle;\n",
       "    }\n",
       "\n",
       "    .dataframe tbody tr th {\n",
       "        vertical-align: top;\n",
       "    }\n",
       "\n",
       "    .dataframe thead th {\n",
       "        text-align: right;\n",
       "    }\n",
       "</style>\n",
       "<table border=\"1\" class=\"dataframe\">\n",
       "  <thead>\n",
       "    <tr style=\"text-align: right;\">\n",
       "      <th></th>\n",
       "      <th>precision</th>\n",
       "      <th>recall</th>\n",
       "      <th>f1-score</th>\n",
       "      <th>support</th>\n",
       "      <th>Fold</th>\n",
       "    </tr>\n",
       "  </thead>\n",
       "  <tbody>\n",
       "    <tr>\n",
       "      <th>0</th>\n",
       "      <td>0.063372</td>\n",
       "      <td>0.063561</td>\n",
       "      <td>0.016733</td>\n",
       "      <td>0.800000</td>\n",
       "      <td>1.414214</td>\n",
       "    </tr>\n",
       "    <tr>\n",
       "      <th>1</th>\n",
       "      <td>0.033106</td>\n",
       "      <td>0.062290</td>\n",
       "      <td>0.038262</td>\n",
       "      <td>2.966479</td>\n",
       "      <td>1.414214</td>\n",
       "    </tr>\n",
       "    <tr>\n",
       "      <th>2</th>\n",
       "      <td>0.054185</td>\n",
       "      <td>0.036551</td>\n",
       "      <td>0.033106</td>\n",
       "      <td>2.727636</td>\n",
       "      <td>1.414214</td>\n",
       "    </tr>\n",
       "    <tr>\n",
       "      <th>3</th>\n",
       "      <td>0.020000</td>\n",
       "      <td>0.077097</td>\n",
       "      <td>0.042237</td>\n",
       "      <td>4.454211</td>\n",
       "      <td>1.414214</td>\n",
       "    </tr>\n",
       "    <tr>\n",
       "      <th>4</th>\n",
       "      <td>0.037094</td>\n",
       "      <td>0.071944</td>\n",
       "      <td>0.042143</td>\n",
       "      <td>1.549193</td>\n",
       "      <td>1.414214</td>\n",
       "    </tr>\n",
       "    <tr>\n",
       "      <th>5</th>\n",
       "      <td>0.024166</td>\n",
       "      <td>0.038471</td>\n",
       "      <td>0.023152</td>\n",
       "      <td>6.829348</td>\n",
       "      <td>1.414214</td>\n",
       "    </tr>\n",
       "    <tr>\n",
       "      <th>6</th>\n",
       "      <td>0.020591</td>\n",
       "      <td>0.031875</td>\n",
       "      <td>0.020396</td>\n",
       "      <td>6.829348</td>\n",
       "      <td>1.414214</td>\n",
       "    </tr>\n",
       "    <tr>\n",
       "      <th>7</th>\n",
       "      <td>0.023152</td>\n",
       "      <td>0.038471</td>\n",
       "      <td>0.023152</td>\n",
       "      <td>6.829348</td>\n",
       "      <td>1.414214</td>\n",
       "    </tr>\n",
       "    <tr>\n",
       "      <th>8</th>\n",
       "      <td>0.030332</td>\n",
       "      <td>0.035777</td>\n",
       "      <td>0.029933</td>\n",
       "      <td>6.829348</td>\n",
       "      <td>1.414214</td>\n",
       "    </tr>\n",
       "  </tbody>\n",
       "</table>\n",
       "</div>"
      ],
      "text/plain": [
       "   precision    recall  f1-score   support      Fold\n",
       "0   0.063372  0.063561  0.016733  0.800000  1.414214\n",
       "1   0.033106  0.062290  0.038262  2.966479  1.414214\n",
       "2   0.054185  0.036551  0.033106  2.727636  1.414214\n",
       "3   0.020000  0.077097  0.042237  4.454211  1.414214\n",
       "4   0.037094  0.071944  0.042143  1.549193  1.414214\n",
       "5   0.024166  0.038471  0.023152  6.829348  1.414214\n",
       "6   0.020591  0.031875  0.020396  6.829348  1.414214\n",
       "7   0.023152  0.038471  0.023152  6.829348  1.414214\n",
       "8   0.030332  0.035777  0.029933  6.829348  1.414214"
      ]
     },
     "execution_count": 63,
     "metadata": {},
     "output_type": "execute_result"
    }
   ],
   "source": [
    "pd.DataFrame(\n",
    "    np.std(np.array([d.values for d in DATAFRAMES]), axis=0),\n",
    "    columns=DATAFRAMES[0].columns\n",
    ")"
   ]
  },
  {
   "cell_type": "code",
   "execution_count": null,
   "id": "3b77cc8a",
   "metadata": {},
   "outputs": [],
   "source": []
  }
 ],
 "metadata": {
  "kernelspec": {
   "display_name": "Python 3 (ipykernel)",
   "language": "python",
   "name": "python3"
  },
  "language_info": {
   "codemirror_mode": {
    "name": "ipython",
    "version": 3
   },
   "file_extension": ".py",
   "mimetype": "text/x-python",
   "name": "python",
   "nbconvert_exporter": "python",
   "pygments_lexer": "ipython3",
   "version": "3.9.12"
  }
 },
 "nbformat": 4,
 "nbformat_minor": 5
}
