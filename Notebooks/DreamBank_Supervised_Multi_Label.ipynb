{
 "cells": [
  {
   "cell_type": "code",
   "execution_count": 1,
   "id": "92dd8fa2",
   "metadata": {
    "scrolled": true
   },
   "outputs": [
    {
     "name": "stdout",
     "output_type": "stream",
     "text": [
      "Wed Nov  9 16:07:54 2022       \r\n",
      "+-----------------------------------------------------------------------------+\r\n",
      "| NVIDIA-SMI 515.43.04    Driver Version: 515.43.04    CUDA Version: 11.7     |\r\n",
      "|-------------------------------+----------------------+----------------------+\r\n",
      "| GPU  Name        Persistence-M| Bus-Id        Disp.A | Volatile Uncorr. ECC |\r\n",
      "| Fan  Temp  Perf  Pwr:Usage/Cap|         Memory-Usage | GPU-Util  Compute M. |\r\n",
      "|                               |                      |               MIG M. |\r\n",
      "|===============================+======================+======================|\r\n",
      "|   0  NVIDIA GeForce ...  Off  | 00000000:03:00.0 Off |                  N/A |\r\n",
      "| 33%   58C    P2   132W / 350W |   4215MiB / 24576MiB |     28%      Default |\r\n",
      "|                               |                      |                  N/A |\r\n",
      "+-------------------------------+----------------------+----------------------+\r\n",
      "|   1  NVIDIA GeForce ...  Off  | 00000000:04:00.0 Off |                  N/A |\r\n",
      "| 30%   23C    P8     4W / 350W |      2MiB / 24576MiB |      0%      Default |\r\n",
      "|                               |                      |                  N/A |\r\n",
      "+-------------------------------+----------------------+----------------------+\r\n",
      "|   2  NVIDIA GeForce ...  Off  | 00000000:43:00.0 Off |                  N/A |\r\n",
      "| 30%   24C    P8     5W / 350W |      2MiB / 24576MiB |      0%      Default |\r\n",
      "|                               |                      |                  N/A |\r\n",
      "+-------------------------------+----------------------+----------------------+\r\n",
      "|   3  NVIDIA GeForce ...  Off  | 00000000:44:00.0 Off |                  N/A |\r\n",
      "| 30%   25C    P8     2W / 350W |      2MiB / 24576MiB |      0%      Default |\r\n",
      "|                               |                      |                  N/A |\r\n",
      "+-------------------------------+----------------------+----------------------+\r\n",
      "|   4  NVIDIA GeForce ...  Off  | 00000000:87:00.0 Off |                  N/A |\r\n",
      "| 30%   21C    P8    13W / 350W |   9765MiB / 24576MiB |      0%      Default |\r\n",
      "|                               |                      |                  N/A |\r\n",
      "+-------------------------------+----------------------+----------------------+\r\n",
      "|   5  NVIDIA GeForce ...  Off  | 00000000:88:00.0 Off |                  N/A |\r\n",
      "| 30%   24C    P8     6W / 350W |      2MiB / 24576MiB |      0%      Default |\r\n",
      "|                               |                      |                  N/A |\r\n",
      "+-------------------------------+----------------------+----------------------+\r\n",
      "|   6  NVIDIA GeForce ...  Off  | 00000000:C3:00.0 Off |                  N/A |\r\n",
      "| 30%   24C    P8     1W / 350W |      2MiB / 24576MiB |      0%      Default |\r\n",
      "|                               |                      |                  N/A |\r\n",
      "+-------------------------------+----------------------+----------------------+\r\n",
      "|   7  NVIDIA GeForce ...  Off  | 00000000:C4:00.0 Off |                  N/A |\r\n",
      "| 30%   24C    P8     5W / 350W |      2MiB / 24576MiB |      0%      Default |\r\n",
      "|                               |                      |                  N/A |\r\n",
      "+-------------------------------+----------------------+----------------------+\r\n",
      "                                                                               \r\n",
      "+-----------------------------------------------------------------------------+\r\n",
      "| Processes:                                                                  |\r\n",
      "|  GPU   GI   CI        PID   Type   Process name                  GPU Memory |\r\n",
      "|        ID   ID                                                   Usage      |\r\n",
      "|=============================================================================|\r\n",
      "|    0   N/A  N/A   1102004      C   ...elf-explain/bin/python3.9     4213MiB |\r\n",
      "|    4   N/A  N/A   1083501      C   ...3/envs/cedr/bin/python3.9     9763MiB |\r\n",
      "+-----------------------------------------------------------------------------+\r\n"
     ]
    }
   ],
   "source": [
    "! nvidia-smi"
   ]
  },
  {
   "cell_type": "code",
   "execution_count": 2,
   "id": "82ba9aa9",
   "metadata": {},
   "outputs": [],
   "source": [
    "import os, random\n",
    "\n",
    "# Makes sure the script has acess to one GPU\n",
    "cuda_device = 5\n",
    "os.environ[\"CUDA_VISIBLE_DEVICES\"] = str(cuda_device)"
   ]
  },
  {
   "cell_type": "code",
   "execution_count": 3,
   "id": "palestinian-clear",
   "metadata": {},
   "outputs": [],
   "source": [
    "# \"Basic\" py library\n",
    "import pandas as pd\n",
    "import numpy as np\n",
    "from sklearn import metrics\n",
    "from sklearn.model_selection import KFold\n",
    "\n",
    "# visualisation\n",
    "from matplotlib import pyplot as plt # basic visualisation in py\n",
    "import seaborn as sns # great to interact with dataframes\n",
    "from tqdm import tqdm  # generats progress bar to controll steps\n",
    "\n",
    "import torch # Pytorch, Meta's library for ML\n",
    "import torch.nn as nn # torch module for neural networks \n",
    "\n",
    "import transformers # HuggingFace library to use pretrained models\n",
    "from transformers import BertTokenizerFast, BertForSequenceClassification\n",
    "from torch.utils.data import Dataset, DataLoader, RandomSampler, SequentialSampler\n",
    "from torch.utils.data import TensorDataset, random_split, SubsetRandomSampler, ConcatDataset\n"
   ]
  },
  {
   "cell_type": "code",
   "execution_count": 4,
   "id": "7bdaa463",
   "metadata": {},
   "outputs": [],
   "source": [
    "def set_seed(seed: int, set_random=True):\n",
    "    \"\"\"Helper function for reproducible behavior to set the seed in ``random``, \n",
    "        ``numpy``, ``torch`` and/or ``tf`` (if installed).\n",
    "\n",
    "    Args:\n",
    "        seed (:obj:`int`): The seed to set.\n",
    "    \"\"\"\n",
    "    from transformers.file_utils import is_tf_available, is_torch_available, is_torch_tpu_available\n",
    "    \n",
    "    if set_random:\n",
    "        random.seed(seed)\n",
    "    np.random.seed(seed)\n",
    "    if is_torch_available():\n",
    "        torch.manual_seed(seed)\n",
    "        torch.cuda.manual_seed_all(seed)\n",
    "        # ^^ safe to call this function even if cuda is not available\n",
    "    if is_tf_available():\n",
    "        import tensorflow as tf\n",
    "\n",
    "        tf.random.set_seed(seed)\n",
    "    \n",
    "def compute_metrics(eval_pred):\n",
    "    predictions, labels = eval_pred\n",
    "    predictions = np.argmax(predictions, axis=1)\n",
    "    return metric.compute(predictions=predictions, references=labels)"
   ]
  },
  {
   "cell_type": "code",
   "execution_count": 5,
   "id": "bd0722f7",
   "metadata": {},
   "outputs": [],
   "source": [
    "# Set visual style\n",
    "sns.set(\"talk\")\n",
    "sns.set_style(\"whitegrid\")\n",
    "\n",
    "#  set the rabdom seed \n",
    "seed = 31\n",
    "set_seed(seed)"
   ]
  },
  {
   "cell_type": "code",
   "execution_count": 27,
   "id": "812d80dc",
   "metadata": {},
   "outputs": [],
   "source": [
    "class CustomDataset(Dataset):\n",
    "\n",
    "    def __init__(self, dataframe, tokenizer, max_len=512):\n",
    "        self.tokenizer = tokenizer                      # the Tokenizer model\n",
    "        self.data      = dataframe                      # the full dataset\n",
    "        self.report    = dataframe.report               # the text data (i.e., the reports)\n",
    "        self.targets   = self.data.Report_as_Multilabel # labels' list to classify\n",
    "        self.max_len   = max_length                     # max length fro truncation\n",
    "\n",
    "    def __len__(self):\n",
    "        return len(self.report)\n",
    "\n",
    "    def __getitem__(self, index):\n",
    "        report = str(self.report[index])\n",
    "        report = \" \".join(report.split())\n",
    "\n",
    "        inputs = self.tokenizer.encode_plus(\n",
    "            report,\n",
    "            None,\n",
    "            add_special_tokens=True,\n",
    "            max_length=self.max_len,\n",
    "            pad_to_max_length=True,\n",
    "            return_token_type_ids=True\n",
    "        )\n",
    "        ids = inputs['input_ids']\n",
    "        mask = inputs['attention_mask']\n",
    "        token_type_ids = inputs[\"token_type_ids\"]\n",
    "\n",
    "        return {\n",
    "            'ids': torch.tensor(ids, dtype=torch.long),\n",
    "            'mask': torch.tensor(mask, dtype=torch.long),\n",
    "            'token_type_ids': torch.tensor(token_type_ids, dtype=torch.long),\n",
    "            'targets': torch.tensor(self.targets[index], dtype=torch.float)\n",
    "        }\n",
    "    \n",
    "# Creating the dataset and dataloader for the neural network\n",
    "def get_Fold(k_seed):\n",
    "    train_size = 0.8\n",
    "    train_dataset = final_df_dataset.sample(frac=train_size, random_state=k_seed)\n",
    "    test_dataset  = final_df_dataset.drop(train_dataset.index).reset_index(drop=True)\n",
    "    train_dataset = train_dataset.reset_index(drop=True)\n",
    "\n",
    "    training_set = CustomDataset(train_dataset, tokenizer, max_length)\n",
    "    testing_set  = CustomDataset(test_dataset, tokenizer, max_length)\n",
    "\n",
    "    train_params = {\n",
    "        'batch_size': train_batch_size,\n",
    "        'shuffle': True,\n",
    "        'num_workers': 0\n",
    "    }\n",
    "\n",
    "    test_params = {\n",
    "        'batch_size': valid_batch_size,\n",
    "        'shuffle': True,\n",
    "        'num_workers': 0\n",
    "    }\n",
    "\n",
    "    training_loader = DataLoader(training_set, **train_params)\n",
    "    testing_loader  = DataLoader(testing_set, **test_params)\n",
    "    \n",
    "    return training_loader, testing_loader\n",
    "\n",
    "# Creating the customized model, by adding a drop out and a dense layer on top of \n",
    "# the BERT (or any other) model, to get the final output. \n",
    "class BERTClass(torch.nn.Module):\n",
    "    def __init__(self, model_name, n_classes, freeze_BERT=False, layer=-1, idx=0):\n",
    "        super(BERTClass, self).__init__()\n",
    "        self.l1 = transformers.BertModel.from_pretrained(model_name)\n",
    "        self.l2 = torch.nn.Dropout(0.3)\n",
    "        self.l3 = torch.nn.Linear(1024, n_classes)\n",
    "        self.layer = layer\n",
    "        self.idx   = idx  \n",
    "        # Froze the weight of model aside of the classifier\n",
    "        if froze_model_layer:\n",
    "            print(\"Freezing the layer of BERT model\")\n",
    "            for name, param in self.l1.named_parameters():\n",
    "                if \"classifier\" not in name:\n",
    "                    param.requires_grad = False\n",
    "                    \n",
    "    def forward(self, ids, mask, token_type_ids):\n",
    "        output_1 = self.l1(ids, attention_mask = mask, token_type_ids = token_type_ids)\n",
    "        output_1 = output_1.last_hidden_state[:, -1, :]\n",
    "        output_2 = self.l2(output_1)\n",
    "        output   = self.l3(output_2)\n",
    "        return output\n",
    "\n",
    "# Loss function \n",
    "def loss_fn(outputs, targets):\n",
    "    return torch.nn.BCEWithLogitsLoss()(outputs, targets)\n",
    "\n",
    "# Training regime\n",
    "def train(epoch, model, training_loader, optimizer, return_losses=False):\n",
    "    Losses = []\n",
    "    model.train()\n",
    "    for _, data in enumerate(training_loader, 0):\n",
    "        ids = data['ids'].to(device, dtype = torch.long)\n",
    "        mask = data['mask'].to(device, dtype = torch.long)\n",
    "        token_type_ids = data['token_type_ids'].to(device, dtype = torch.long)\n",
    "        targets = data['targets'].to(device, dtype = torch.float)\n",
    "\n",
    "        outputs = model(ids, mask, token_type_ids)\n",
    "\n",
    "        optimizer.zero_grad()\n",
    "        loss = loss_fn(outputs, targets)\n",
    "        if _%5000==0:\n",
    "            print(f'Epoch: {epoch}, Loss:  {loss.item()}')\n",
    "            Losses.append(loss.item())\n",
    "    \n",
    "        optimizer.zero_grad()\n",
    "        loss.backward()\n",
    "        optimizer.step()\n",
    "        \n",
    "    if return_losses:\n",
    "        return Losses\n",
    "    \n",
    "# Validate (test) the model\n",
    "def validation(model, testing_loader):\n",
    "    model.eval()\n",
    "    fin_targets=[]\n",
    "    fin_outputs=[]\n",
    "    with torch.no_grad():\n",
    "        for _, data in enumerate(testing_loader, 0):\n",
    "            ids = data['ids'].to(device, dtype = torch.long)\n",
    "            mask = data['mask'].to(device, dtype = torch.long)\n",
    "            token_type_ids = data['token_type_ids'].to(device, dtype = torch.long)\n",
    "            targets = data['targets'].to(device, dtype = torch.float)\n",
    "            outputs = model(ids, mask, token_type_ids)\n",
    "            fin_targets.extend(targets.cpu().detach().numpy().tolist())\n",
    "            fin_outputs.extend(torch.sigmoid(outputs).cpu().detach().numpy().tolist())\n",
    "    return fin_outputs, fin_targets"
   ]
  },
  {
   "cell_type": "markdown",
   "id": "favorite-prize",
   "metadata": {},
   "source": [
    "# Table of Content\n",
    "\n",
    "click on the titles to reach the described sections\n",
    "\n",
    "---------\n",
    "[Loading Data](#intro)\n",
    "\n",
    "[Dataset and Model Setup](#setup)\n",
    "\n",
    "[Training and Evaluation](#train_eval)\n",
    "\n",
    "[Analysis](#analysis)\n",
    "\n",
    "[K-Fold Experiment](#kfold)"
   ]
  },
  {
   "cell_type": "markdown",
   "id": "weird-illness",
   "metadata": {},
   "source": [
    "## Loading data<a id='intro'></a>"
   ]
  },
  {
   "cell_type": "code",
   "execution_count": 7,
   "id": "98529ba5",
   "metadata": {},
   "outputs": [],
   "source": [
    "# Load the dataset in CSV\n",
    "dream_records = pd.read_csv(\n",
    "    \"Reports_DreamerEmotions_PCACho_tsneCho_KMCluster2_KMCluster6_2WSA_6WSA.csv\"\n",
    ")\n",
    "\n",
    "Coding_emotions = {\n",
    "    \"AN\": \"Anger\",\n",
    "    \"AP\": \"Apprehension\",\n",
    "    \"SD\": \"Sadness\",\n",
    "    \"CO\": \"Confusion\",\n",
    "    \"HA\": \"Happiness\",\n",
    "    \n",
    "    \"Missing\": \"Missing\",\n",
    "}"
   ]
  },
  {
   "cell_type": "markdown",
   "id": "037d8ed9",
   "metadata": {},
   "source": [
    "Convert each set of labels/Emotion is a list signaling the prsence/absence of each emotion."
   ]
  },
  {
   "cell_type": "code",
   "execution_count": 8,
   "id": "0d8f9c47",
   "metadata": {},
   "outputs": [
    {
     "name": "stderr",
     "output_type": "stream",
     "text": [
      "100%|███████████████████████████████████| 1845/1845 [00:00<00:00, 703755.08it/s]\n"
     ]
    }
   ],
   "source": [
    "emotions_list = list(Coding_emotions.keys())\n",
    "emotions_list.remove(\"Missing\")\n",
    "\n",
    "report_as_multi_label = []\n",
    "for rprt_emtn_lst in tqdm(dream_records[\"Emotions\"]):\n",
    "    lcl_report_as_multi_label = []\n",
    "    for emotion_acronim in emotions_list:\n",
    "        if emotion_acronim in rprt_emtn_lst:\n",
    "            lcl_report_as_multi_label.append(1)\n",
    "        else:\n",
    "            lcl_report_as_multi_label.append(0)\n",
    "    report_as_multi_label.append(lcl_report_as_multi_label)\n",
    "\n",
    "dream_records[\"Report_as_Multilabel\"] = report_as_multi_label\n",
    "\n",
    "# final_df_dataset = dream_records\n",
    "\n",
    "final_df_dataset = dream_records[~dream_records[\"# Emotions\"].isin([0])].reset_index(drop=True)"
   ]
  },
  {
   "cell_type": "code",
   "execution_count": 9,
   "id": "b3b721ad",
   "metadata": {},
   "outputs": [
    {
     "data": {
      "text/plain": [
       "Index(['gender', 'age', 'type', 'collection', 'id', 'time', 'date', 'number',\n",
       "       'report', '# words', 'Emotions', '# Emotions', 'TSNE_x', 'TSNE_y',\n",
       "       'PCA_x', 'PCA_y', 'Kmean_Cluster_6', 'Kmean Cluster_2', '2W_SA_label',\n",
       "       '2W_SA_score', '6W_SA_dict', 'Report_as_Multilabel'],\n",
       "      dtype='object')"
      ]
     },
     "execution_count": 9,
     "metadata": {},
     "output_type": "execute_result"
    }
   ],
   "source": [
    "final_df_dataset.columns"
   ]
  },
  {
   "cell_type": "code",
   "execution_count": 10,
   "id": "bc133132",
   "metadata": {},
   "outputs": [],
   "source": [
    "final_df_dataset = final_df_dataset[[\"report\", \"Report_as_Multilabel\"]]"
   ]
  },
  {
   "cell_type": "markdown",
   "id": "5ee413b2",
   "metadata": {},
   "source": [
    "## Dataset and Model Setup<a id='setup'></a>"
   ]
  },
  {
   "cell_type": "code",
   "execution_count": 10,
   "id": "397e094e",
   "metadata": {},
   "outputs": [],
   "source": [
    "# Defining model's specifications \n",
    "model_name        = \"bert-large-cased\"\n",
    "max_length        = 512\n",
    "device            = \"cuda\"\n",
    "epochs            = 5\n",
    "train_batch_size  = 8 # always use power of 2!\n",
    "valid_batch_size  = 4\n",
    "train_ratio       = .7\n",
    "learning_rate     = 1e-05\n",
    "froze_model_layer = False \n",
    "\n",
    "# Tokenizer defined first to tokenize the inputs in the Dataset object\n",
    "tokenizer = BertTokenizerFast.from_pretrained(model_name, do_lower_case=False)"
   ]
  },
  {
   "cell_type": "code",
   "execution_count": 11,
   "id": "5c7277de",
   "metadata": {},
   "outputs": [
    {
     "name": "stdout",
     "output_type": "stream",
     "text": [
      "FULL Dataset:  (778, 2)\n",
      "TRAIN Dataset: (622, 2)\n",
      "TEST Dataset:  (156, 2)\n"
     ]
    }
   ],
   "source": [
    "# Creating the dataset and dataloader for the neural network\n",
    "\n",
    "train_size = 0.8\n",
    "train_dataset = final_df_dataset.sample(frac=train_size, random_state=seed)\n",
    "test_dataset  = final_df_dataset.drop(train_dataset.index).reset_index(drop=True)\n",
    "train_dataset = train_dataset.reset_index(drop=True)\n",
    "\n",
    "print(\"FULL Dataset:  {}\".format(final_df_dataset.shape))\n",
    "print(\"TRAIN Dataset: {}\".format(train_dataset.shape))\n",
    "print(\"TEST Dataset:  {}\".format(test_dataset.shape))\n",
    "\n",
    "training_set = CustomDataset(train_dataset, tokenizer, max_length)\n",
    "testing_set  = CustomDataset(test_dataset, tokenizer, max_length)"
   ]
  },
  {
   "cell_type": "code",
   "execution_count": 12,
   "id": "7c76d4da",
   "metadata": {},
   "outputs": [],
   "source": [
    "train_params = {\n",
    "    'batch_size': train_batch_size,\n",
    "    'shuffle': True,\n",
    "    'num_workers': 0\n",
    "}\n",
    "\n",
    "test_params = {\n",
    "    'batch_size': valid_batch_size,\n",
    "    'shuffle': True,\n",
    "    'num_workers': 0\n",
    "}\n",
    "\n",
    "training_loader = DataLoader(training_set, **train_params)\n",
    "testing_loader  = DataLoader(testing_set, **test_params)"
   ]
  },
  {
   "cell_type": "code",
   "execution_count": 13,
   "id": "5df33800",
   "metadata": {},
   "outputs": [
    {
     "name": "stderr",
     "output_type": "stream",
     "text": [
      "Some weights of the model checkpoint at bert-large-cased were not used when initializing BertModel: ['cls.predictions.transform.LayerNorm.bias', 'cls.seq_relationship.weight', 'cls.predictions.decoder.weight', 'cls.seq_relationship.bias', 'cls.predictions.transform.dense.weight', 'cls.predictions.transform.LayerNorm.weight', 'cls.predictions.bias', 'cls.predictions.transform.dense.bias']\n",
      "- This IS expected if you are initializing BertModel from the checkpoint of a model trained on another task or with another architecture (e.g. initializing a BertForSequenceClassification model from a BertForPreTraining model).\n",
      "- This IS NOT expected if you are initializing BertModel from the checkpoint of a model that you expect to be exactly identical (initializing a BertForSequenceClassification model from a BertForSequenceClassification model).\n"
     ]
    }
   ],
   "source": [
    "model_tuned = BERTClass(\n",
    "    model_name=model_name, \n",
    "    n_classes=len(emotions_list), \n",
    "    freeze_BERT=False\n",
    ")\n",
    "\n",
    "model_tuned.to(device)\n",
    "\n",
    "optimizer_tuned = torch.optim.Adam(\n",
    "    params=model_tuned.parameters(), \n",
    "    lr=learning_rate\n",
    ")"
   ]
  },
  {
   "cell_type": "markdown",
   "id": "8fd2fa5f",
   "metadata": {},
   "source": [
    "## Training and Evaluation<a id='train_eval'></a>\n",
    "Training a model on a single split "
   ]
  },
  {
   "cell_type": "code",
   "execution_count": 15,
   "id": "e7d41af9",
   "metadata": {},
   "outputs": [
    {
     "name": "stderr",
     "output_type": "stream",
     "text": [
      "Truncation was not explicitly activated but `max_length` is provided a specific value, please use `truncation=True` to explicitly truncate examples to max length. Defaulting to 'longest_first' truncation strategy. If you encode pairs of sequences (GLUE-style) with the tokenizer you can select this strategy more precisely by providing a specific strategy to `truncation`.\n",
      "/srv/galene1/lb540/miniconda/envs/main_39/lib/python3.9/site-packages/transformers/tokenization_utils_base.py:2323: FutureWarning: The `pad_to_max_length` argument is deprecated and will be removed in a future version, use `padding=True` or `padding='longest'` to pad to the longest sequence in the batch, or use `padding='max_length'` to pad to a max length. In this case, you can give a specific length with `max_length` (e.g. `max_length=45`) or leave max_length to None to pad to the maximal input size of the model (e.g. 512 for Bert).\n",
      "  warnings.warn(\n"
     ]
    },
    {
     "name": "stdout",
     "output_type": "stream",
     "text": [
      "Epoch: 0, Loss:  0.7251710295677185\n",
      "Epoch: 1, Loss:  0.5469126105308533\n",
      "Epoch: 2, Loss:  0.5461908578872681\n",
      "Epoch: 3, Loss:  0.4007751941680908\n",
      "Epoch: 4, Loss:  0.36560940742492676\n"
     ]
    }
   ],
   "source": [
    "for ep in range(epochs):\n",
    "    train(ep, model_tuned, training_loader, optimizer_tuned)"
   ]
  },
  {
   "cell_type": "code",
   "execution_count": 16,
   "id": "5a039e8e",
   "metadata": {},
   "outputs": [],
   "source": [
    "outputs, targets = validation(model_tuned, testing_loader)\n",
    "outputs = np.array(outputs) >= 0.5"
   ]
  },
  {
   "cell_type": "code",
   "execution_count": 17,
   "id": "6aa176d0",
   "metadata": {},
   "outputs": [
    {
     "data": {
      "text/html": [
       "<div>\n",
       "<style scoped>\n",
       "    .dataframe tbody tr th:only-of-type {\n",
       "        vertical-align: middle;\n",
       "    }\n",
       "\n",
       "    .dataframe tbody tr th {\n",
       "        vertical-align: top;\n",
       "    }\n",
       "\n",
       "    .dataframe thead th {\n",
       "        text-align: right;\n",
       "    }\n",
       "</style>\n",
       "<table border=\"1\" class=\"dataframe\">\n",
       "  <thead>\n",
       "    <tr style=\"text-align: right;\">\n",
       "      <th></th>\n",
       "      <th>precision</th>\n",
       "      <th>recall</th>\n",
       "      <th>f1-score</th>\n",
       "      <th>support</th>\n",
       "    </tr>\n",
       "  </thead>\n",
       "  <tbody>\n",
       "    <tr>\n",
       "      <th>AN</th>\n",
       "      <td>0.85</td>\n",
       "      <td>0.81</td>\n",
       "      <td>0.83</td>\n",
       "      <td>27</td>\n",
       "    </tr>\n",
       "    <tr>\n",
       "      <th>AP</th>\n",
       "      <td>0.83</td>\n",
       "      <td>0.66</td>\n",
       "      <td>0.74</td>\n",
       "      <td>68</td>\n",
       "    </tr>\n",
       "    <tr>\n",
       "      <th>SD</th>\n",
       "      <td>1.00</td>\n",
       "      <td>0.14</td>\n",
       "      <td>0.24</td>\n",
       "      <td>22</td>\n",
       "    </tr>\n",
       "    <tr>\n",
       "      <th>CO</th>\n",
       "      <td>0.67</td>\n",
       "      <td>0.45</td>\n",
       "      <td>0.54</td>\n",
       "      <td>31</td>\n",
       "    </tr>\n",
       "    <tr>\n",
       "      <th>HA</th>\n",
       "      <td>0.89</td>\n",
       "      <td>0.53</td>\n",
       "      <td>0.67</td>\n",
       "      <td>32</td>\n",
       "    </tr>\n",
       "    <tr>\n",
       "      <th>micro avg</th>\n",
       "      <td>0.82</td>\n",
       "      <td>0.56</td>\n",
       "      <td>0.67</td>\n",
       "      <td>180</td>\n",
       "    </tr>\n",
       "    <tr>\n",
       "      <th>macro avg</th>\n",
       "      <td>0.85</td>\n",
       "      <td>0.52</td>\n",
       "      <td>0.60</td>\n",
       "      <td>180</td>\n",
       "    </tr>\n",
       "    <tr>\n",
       "      <th>weighted avg</th>\n",
       "      <td>0.84</td>\n",
       "      <td>0.56</td>\n",
       "      <td>0.64</td>\n",
       "      <td>180</td>\n",
       "    </tr>\n",
       "    <tr>\n",
       "      <th>samples avg</th>\n",
       "      <td>0.60</td>\n",
       "      <td>0.59</td>\n",
       "      <td>0.59</td>\n",
       "      <td>180</td>\n",
       "    </tr>\n",
       "  </tbody>\n",
       "</table>\n",
       "</div>"
      ],
      "text/plain": [
       "              precision  recall  f1-score  support\n",
       "AN                 0.85    0.81      0.83       27\n",
       "AP                 0.83    0.66      0.74       68\n",
       "SD                 1.00    0.14      0.24       22\n",
       "CO                 0.67    0.45      0.54       31\n",
       "HA                 0.89    0.53      0.67       32\n",
       "micro avg          0.82    0.56      0.67      180\n",
       "macro avg          0.85    0.52      0.60      180\n",
       "weighted avg       0.84    0.56      0.64      180\n",
       "samples avg        0.60    0.59      0.59      180"
      ]
     },
     "execution_count": 17,
     "metadata": {},
     "output_type": "execute_result"
    }
   ],
   "source": [
    "pd.DataFrame.from_dict(\n",
    "    metrics.classification_report(\n",
    "        targets,\n",
    "        outputs,\n",
    "        target_names=emotions_list,\n",
    "        zero_division=0,\n",
    "        output_dict=True,\n",
    "    ), \n",
    "    orient='index',\n",
    ").round(2)"
   ]
  },
  {
   "cell_type": "markdown",
   "id": "e0074669",
   "metadata": {},
   "source": [
    "## Analysis<a id='analysis'></a>"
   ]
  },
  {
   "cell_type": "code",
   "execution_count": 18,
   "id": "b03768b0",
   "metadata": {},
   "outputs": [
    {
     "data": {
      "image/png": "[encoded data removed]",
      "text/plain": [
       "<Figure size 1080x216 with 5 Axes>"
      ]
     },
     "metadata": {
      "needs_background": "light"
     },
     "output_type": "display_data"
    }
   ],
   "source": [
    "emotions_CM = metrics.multilabel_confusion_matrix(\n",
    "    targets,\n",
    "    outputs,\n",
    ")\n",
    "\n",
    "plt.figure(figsize=(15, 3))\n",
    "for cnt, cm in enumerate(emotions_CM): \n",
    "    \n",
    "    plt.subplot(1,5,cnt+1) \n",
    "    g = sns.heatmap(cm, cmap=\"crest\", cbar=False, annot=True)\n",
    "    plt.title(\"Emotion: {}\".format(emotions_list[cnt]))\n",
    "    plt.xlabel(\"Predicted\")\n",
    "    if cnt == 0:\n",
    "        plt.ylabel(\"True\")\n",
    "    else:\n",
    "        g.set_yticklabels([\"\", \"\"])\n",
    "        \n",
    "plt.show()"
   ]
  },
  {
   "cell_type": "code",
   "execution_count": 19,
   "id": "2b7c1990",
   "metadata": {},
   "outputs": [
    {
     "data": {
      "text/plain": [
       "['AN', 'AP', 'SD', 'CO', 'HA']"
      ]
     },
     "execution_count": 19,
     "metadata": {},
     "output_type": "execute_result"
    }
   ],
   "source": [
    "emotions_list"
   ]
  },
  {
   "cell_type": "code",
   "execution_count": 20,
   "id": "25735e0d",
   "metadata": {},
   "outputs": [
    {
     "data": {
      "image/png": "[encoded data removed]",
      "text/plain": [
       "<Figure size 1080x504 with 2 Axes>"
      ]
     },
     "metadata": {
      "needs_background": "light"
     },
     "output_type": "display_data"
    }
   ],
   "source": [
    "plt.figure(figsize=(15, 7))\n",
    "for cnt, [name, data] in enumerate({\"True\":targets, \"Predicted\":outputs}.items()): \n",
    "    \n",
    "    rot_data = np.rot90(data)\n",
    "    _bar = True if cnt != 0 else False\n",
    "    plt.subplot(2,1,cnt+1)\n",
    "    g = sns.heatmap(\n",
    "            rot_data, \n",
    "            cmap=\"crest\",\n",
    "            linewidth=.8,\n",
    "            xticklabels=False, \n",
    "            yticklabels=list(reversed(emotions_list)),\n",
    "            cbar=False,\n",
    "    )\n",
    "    g.set_yticklabels(g.get_yticklabels(), rotation=30)        \n",
    "    plt.title(\"{}\".format(name))\n",
    "    \n",
    "plt.tight_layout()\n",
    "plt.show()"
   ]
  },
  {
   "cell_type": "code",
   "execution_count": null,
   "id": "3d04a524",
   "metadata": {},
   "outputs": [],
   "source": []
  },
  {
   "cell_type": "markdown",
   "id": "1b9954c3",
   "metadata": {},
   "source": [
    "## K-Fold Experiment<a id='kfold'></a>"
   ]
  },
  {
   "cell_type": "code",
   "execution_count": 12,
   "id": "30b5536c",
   "metadata": {},
   "outputs": [],
   "source": [
    "# Defining model's specifications \n",
    "model_name        = \"bert-large-cased\"\n",
    "max_length        = 512\n",
    "device            = \"cuda\"\n",
    "epochs            = 5\n",
    "train_batch_size  = 8 # always use power of 2!\n",
    "valid_batch_size  = 4\n",
    "train_ratio       = .7\n",
    "learning_rate     = 1e-05\n",
    "froze_model_layer = False \n",
    "\n",
    "# Tokenizer defined first to tokenize the inputs in the Dataset object\n",
    "tokenizer = BertTokenizerFast.from_pretrained(model_name, do_lower_case=False)"
   ]
  },
  {
   "cell_type": "code",
   "execution_count": 31,
   "id": "35cc123d",
   "metadata": {
    "scrolled": false
   },
   "outputs": [
    {
     "name": "stdout",
     "output_type": "stream",
     "text": [
      "Fold 1\n"
     ]
    },
    {
     "name": "stderr",
     "output_type": "stream",
     "text": [
      "Some weights of the model checkpoint at bert-large-cased were not used when initializing BertModel: ['cls.predictions.transform.dense.bias', 'cls.predictions.bias', 'cls.predictions.transform.dense.weight', 'cls.predictions.transform.LayerNorm.weight', 'cls.seq_relationship.weight', 'cls.predictions.decoder.weight', 'cls.seq_relationship.bias', 'cls.predictions.transform.LayerNorm.bias']\n",
      "- This IS expected if you are initializing BertModel from the checkpoint of a model trained on another task or with another architecture (e.g. initializing a BertForSequenceClassification model from a BertForPreTraining model).\n",
      "- This IS NOT expected if you are initializing BertModel from the checkpoint of a model that you expect to be exactly identical (initializing a BertForSequenceClassification model from a BertForSequenceClassification model).\n",
      "/srv/galene1/lb540/miniconda/envs/main_39/lib/python3.9/site-packages/transformers/tokenization_utils_base.py:2323: FutureWarning: The `pad_to_max_length` argument is deprecated and will be removed in a future version, use `padding=True` or `padding='longest'` to pad to the longest sequence in the batch, or use `padding='max_length'` to pad to a max length. In this case, you can give a specific length with `max_length` (e.g. `max_length=45`) or leave max_length to None to pad to the maximal input size of the model (e.g. 512 for Bert).\n",
      "  warnings.warn(\n"
     ]
    },
    {
     "name": "stdout",
     "output_type": "stream",
     "text": [
      "Epoch: 0, Loss:  0.7020222544670105\n",
      "Epoch: 1, Loss:  0.6622578501701355\n",
      "Epoch: 2, Loss:  0.5281147956848145\n",
      "Epoch: 3, Loss:  0.4457736611366272\n",
      "Epoch: 4, Loss:  0.21643920242786407\n",
      "Testing the Model\n",
      "F1 samples avg.: 0.86\n",
      "Fold 2\n"
     ]
    },
    {
     "name": "stderr",
     "output_type": "stream",
     "text": [
      "Some weights of the model checkpoint at bert-large-cased were not used when initializing BertModel: ['cls.predictions.transform.dense.bias', 'cls.predictions.bias', 'cls.predictions.transform.dense.weight', 'cls.predictions.transform.LayerNorm.weight', 'cls.seq_relationship.weight', 'cls.predictions.decoder.weight', 'cls.seq_relationship.bias', 'cls.predictions.transform.LayerNorm.bias']\n",
      "- This IS expected if you are initializing BertModel from the checkpoint of a model trained on another task or with another architecture (e.g. initializing a BertForSequenceClassification model from a BertForPreTraining model).\n",
      "- This IS NOT expected if you are initializing BertModel from the checkpoint of a model that you expect to be exactly identical (initializing a BertForSequenceClassification model from a BertForSequenceClassification model).\n",
      "/srv/galene1/lb540/miniconda/envs/main_39/lib/python3.9/site-packages/transformers/tokenization_utils_base.py:2323: FutureWarning: The `pad_to_max_length` argument is deprecated and will be removed in a future version, use `padding=True` or `padding='longest'` to pad to the longest sequence in the batch, or use `padding='max_length'` to pad to a max length. In this case, you can give a specific length with `max_length` (e.g. `max_length=45`) or leave max_length to None to pad to the maximal input size of the model (e.g. 512 for Bert).\n",
      "  warnings.warn(\n"
     ]
    },
    {
     "name": "stdout",
     "output_type": "stream",
     "text": [
      "Epoch: 0, Loss:  0.7276678085327148\n",
      "Epoch: 1, Loss:  0.6097238659858704\n",
      "Epoch: 2, Loss:  0.46570754051208496\n",
      "Epoch: 3, Loss:  0.19502349197864532\n",
      "Epoch: 4, Loss:  0.1153481975197792\n",
      "Testing the Model\n",
      "F1 samples avg.: 0.85\n",
      "Fold 3\n"
     ]
    },
    {
     "name": "stderr",
     "output_type": "stream",
     "text": [
      "Some weights of the model checkpoint at bert-large-cased were not used when initializing BertModel: ['cls.predictions.transform.dense.bias', 'cls.predictions.bias', 'cls.predictions.transform.dense.weight', 'cls.predictions.transform.LayerNorm.weight', 'cls.seq_relationship.weight', 'cls.predictions.decoder.weight', 'cls.seq_relationship.bias', 'cls.predictions.transform.LayerNorm.bias']\n",
      "- This IS expected if you are initializing BertModel from the checkpoint of a model trained on another task or with another architecture (e.g. initializing a BertForSequenceClassification model from a BertForPreTraining model).\n",
      "- This IS NOT expected if you are initializing BertModel from the checkpoint of a model that you expect to be exactly identical (initializing a BertForSequenceClassification model from a BertForSequenceClassification model).\n",
      "/srv/galene1/lb540/miniconda/envs/main_39/lib/python3.9/site-packages/transformers/tokenization_utils_base.py:2323: FutureWarning: The `pad_to_max_length` argument is deprecated and will be removed in a future version, use `padding=True` or `padding='longest'` to pad to the longest sequence in the batch, or use `padding='max_length'` to pad to a max length. In this case, you can give a specific length with `max_length` (e.g. `max_length=45`) or leave max_length to None to pad to the maximal input size of the model (e.g. 512 for Bert).\n",
      "  warnings.warn(\n"
     ]
    },
    {
     "name": "stdout",
     "output_type": "stream",
     "text": [
      "Epoch: 0, Loss:  0.7322759032249451\n",
      "Epoch: 1, Loss:  0.6032800674438477\n",
      "Epoch: 2, Loss:  0.5944746732711792\n",
      "Epoch: 3, Loss:  0.4759902060031891\n",
      "Epoch: 4, Loss:  0.2677536606788635\n",
      "Testing the Model\n",
      "F1 samples avg.: 0.78\n",
      "Fold 4\n"
     ]
    },
    {
     "name": "stderr",
     "output_type": "stream",
     "text": [
      "Some weights of the model checkpoint at bert-large-cased were not used when initializing BertModel: ['cls.predictions.transform.dense.bias', 'cls.predictions.bias', 'cls.predictions.transform.dense.weight', 'cls.predictions.transform.LayerNorm.weight', 'cls.seq_relationship.weight', 'cls.predictions.decoder.weight', 'cls.seq_relationship.bias', 'cls.predictions.transform.LayerNorm.bias']\n",
      "- This IS expected if you are initializing BertModel from the checkpoint of a model trained on another task or with another architecture (e.g. initializing a BertForSequenceClassification model from a BertForPreTraining model).\n",
      "- This IS NOT expected if you are initializing BertModel from the checkpoint of a model that you expect to be exactly identical (initializing a BertForSequenceClassification model from a BertForSequenceClassification model).\n",
      "/srv/galene1/lb540/miniconda/envs/main_39/lib/python3.9/site-packages/transformers/tokenization_utils_base.py:2323: FutureWarning: The `pad_to_max_length` argument is deprecated and will be removed in a future version, use `padding=True` or `padding='longest'` to pad to the longest sequence in the batch, or use `padding='max_length'` to pad to a max length. In this case, you can give a specific length with `max_length` (e.g. `max_length=45`) or leave max_length to None to pad to the maximal input size of the model (e.g. 512 for Bert).\n",
      "  warnings.warn(\n"
     ]
    },
    {
     "name": "stdout",
     "output_type": "stream",
     "text": [
      "Epoch: 0, Loss:  0.7410435080528259\n",
      "Epoch: 1, Loss:  0.536763072013855\n",
      "Epoch: 2, Loss:  0.32944560050964355\n",
      "Epoch: 3, Loss:  0.2707534730434418\n",
      "Epoch: 4, Loss:  0.14953969419002533\n",
      "Testing the Model\n",
      "F1 samples avg.: 0.8\n",
      "Fold 5\n"
     ]
    },
    {
     "name": "stderr",
     "output_type": "stream",
     "text": [
      "Some weights of the model checkpoint at bert-large-cased were not used when initializing BertModel: ['cls.predictions.transform.dense.bias', 'cls.predictions.bias', 'cls.predictions.transform.dense.weight', 'cls.predictions.transform.LayerNorm.weight', 'cls.seq_relationship.weight', 'cls.predictions.decoder.weight', 'cls.seq_relationship.bias', 'cls.predictions.transform.LayerNorm.bias']\n",
      "- This IS expected if you are initializing BertModel from the checkpoint of a model trained on another task or with another architecture (e.g. initializing a BertForSequenceClassification model from a BertForPreTraining model).\n",
      "- This IS NOT expected if you are initializing BertModel from the checkpoint of a model that you expect to be exactly identical (initializing a BertForSequenceClassification model from a BertForSequenceClassification model).\n",
      "/srv/galene1/lb540/miniconda/envs/main_39/lib/python3.9/site-packages/transformers/tokenization_utils_base.py:2323: FutureWarning: The `pad_to_max_length` argument is deprecated and will be removed in a future version, use `padding=True` or `padding='longest'` to pad to the longest sequence in the batch, or use `padding='max_length'` to pad to a max length. In this case, you can give a specific length with `max_length` (e.g. `max_length=45`) or leave max_length to None to pad to the maximal input size of the model (e.g. 512 for Bert).\n",
      "  warnings.warn(\n"
     ]
    },
    {
     "name": "stdout",
     "output_type": "stream",
     "text": [
      "Epoch: 0, Loss:  0.7099923491477966\n",
      "Epoch: 1, Loss:  0.502336859703064\n",
      "Epoch: 2, Loss:  0.6127772331237793\n",
      "Epoch: 3, Loss:  0.3498329222202301\n",
      "Epoch: 4, Loss:  0.37649670243263245\n",
      "Testing the Model\n",
      "F1 samples avg.: 0.69\n"
     ]
    }
   ],
   "source": [
    "SCORES, LOSSES = [], []\n",
    "for fold in range(5):\n",
    "\n",
    "    print('Fold {}'.format(fold + 1))\n",
    "    rand_int = random.randint(0, 10000)\n",
    "    train_loader, testing_loader = get_Fold(rand_int)\n",
    "\n",
    "    # makes sure the seed for model init is the same\n",
    "    set_seed(seed, set_random=False) \n",
    "    \n",
    "    # Set Model and Optmizer (for each fold)\n",
    "    model_tuned = BERTClass(\n",
    "        model_name=model_name, \n",
    "        n_classes=len(emotions_list), \n",
    "        freeze_BERT=False\n",
    "    )\n",
    "\n",
    "    optimizer_tuned = torch.optim.Adam(\n",
    "    params=model_tuned.parameters(), \n",
    "    lr=learning_rate\n",
    "    ) \n",
    "    \n",
    "    model_tuned.to(device)\n",
    "    \n",
    "    #Train and test the model\n",
    "    for ep in range(5):\n",
    "        train_losses = train(\n",
    "            ep, \n",
    "            model_tuned, \n",
    "            train_loader, \n",
    "            optimizer_tuned, \n",
    "            return_losses=True,\n",
    "        )\n",
    "    LOSSES.append(train_losses)\n",
    "    \n",
    "    print(\"Testing the Model\")\n",
    "    outputs, targets = validation(model_tuned, testing_loader)\n",
    "    outputs = np.array(outputs) >= 0.5    \n",
    "    \n",
    "    model_tuned.to(\"cpu\")\n",
    "    del model_tuned # send the model to cpu and delete\n",
    "    \n",
    "    # Compute and print results\n",
    "    results_df = pd.DataFrame.from_dict(\n",
    "        metrics.classification_report(\n",
    "            targets,\n",
    "            outputs,\n",
    "            target_names=emotions_list,\n",
    "            zero_division=0,\n",
    "            output_dict=True,\n",
    "        ), \n",
    "        orient='index',\n",
    "    ).round(2)\n",
    "    \n",
    "    f1_samp_av = results_df.at[\"samples avg\", \"f1-score\"]\n",
    "    print(\"F1 samples avg.: {}\".format(f1_samp_av), end = \"\\n\")\n",
    "    SCORES.append(f1_samp_av)"
   ]
  },
  {
   "cell_type": "code",
   "execution_count": 70,
   "id": "54467a9f",
   "metadata": {},
   "outputs": [
    {
     "name": "stdout",
     "output_type": "stream",
     "text": [
      "Mean F1 samples avg.:80 ± 6.09\n"
     ]
    }
   ],
   "source": [
    "print(\"Mean F1 samples avg.:{:.0f} ± {:.2f}\".format(100*np.mean(SCORES), 100*np.std(SCORES)))"
   ]
  },
  {
   "cell_type": "code",
   "execution_count": null,
   "id": "6141bb43",
   "metadata": {},
   "outputs": [],
   "source": []
  }
 ],
 "metadata": {
  "kernelspec": {
   "display_name": "Python 3 (ipykernel)",
   "language": "python",
   "name": "python3"
  },
  "language_info": {
   "codemirror_mode": {
    "name": "ipython",
    "version": 3
   },
   "file_extension": ".py",
   "mimetype": "text/x-python",
   "name": "python",
   "nbconvert_exporter": "python",
   "pygments_lexer": "ipython3",
   "version": "3.9.12"
  }
 },
 "nbformat": 4,
 "nbformat_minor": 5
}
